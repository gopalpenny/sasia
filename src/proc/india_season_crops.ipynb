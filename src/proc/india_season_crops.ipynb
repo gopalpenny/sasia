{
 "cells": [
  {
   "cell_type": "code",
   "execution_count": 1,
   "id": "ff21cb42-8325-4b2a-8dde-47b5dfdacd18",
   "metadata": {},
   "outputs": [],
   "source": [
    "import ee\n",
    "import geemap\n",
    "import numpy as np\n",
    "import sys\n",
    "sys.path.insert(1, '/Users/gopal/Projects/ml/downloadGEErasters')\n",
    "import rs\n",
    "from datetime import datetime, timedelta\n",
    "from dateutil.relativedelta import relativedelta\n",
    "from gee_landsat_prep_functions import prep_tm5_ic, prep_etm7_ic, prep_oli8_ic, prep_landsat_clouds"
   ]
  },
  {
   "cell_type": "code",
   "execution_count": 2,
   "id": "8f4be1c0-e828-4a09-b2ef-41f76e206acd",
   "metadata": {},
   "outputs": [],
   "source": [
    "ee.Initialize()"
   ]
  },
  {
   "cell_type": "code",
   "execution_count": 3,
   "id": "85766f8d-8f39-4f16-a3d8-1ebd74e63534",
   "metadata": {},
   "outputs": [],
   "source": [
    "ee_geometry_box = ee.Geometry.Polygon(\n",
    "        [[[77.42201334186198, 11.398136848502652],\n",
    "          [77.42201334186198, 10.873987098476817],\n",
    "          [78.33387857623698, 10.873987098476817],\n",
    "          [78.33387857623698, 11.398136848502652]]], None, False)"
   ]
  },
  {
   "cell_type": "code",
   "execution_count": 4,
   "id": "1d6f5cf0-7f60-4b7a-9472-236ea892445c",
   "metadata": {},
   "outputs": [],
   "source": [
    "ee_geometry = ee.FeatureCollection(\"users/gopalpenny/cauvery/Cauvery_boundary5\")\n"
   ]
  },
  {
   "cell_type": "code",
   "execution_count": 5,
   "id": "4bfbb23e-20c9-4fb5-a9af-70f4ef29efa7",
   "metadata": {},
   "outputs": [],
   "source": [
    "# Prepare and merge landsat data\n",
    "tm5 = prep_tm5_ic(ee_geometry) \n",
    "etm7 = prep_etm7_ic(ee_geometry)\n",
    "oli8 = prep_oli8_ic(ee_geometry) \n",
    "landsat = tm5.merge(etm7).merge(oli8) \\\n",
    "    .filterMetadata('CLOUD_COVER', 'less_than', 50)\n"
   ]
  },
  {
   "cell_type": "code",
   "execution_count": 6,
   "id": "a8ae5f3d",
   "metadata": {},
   "outputs": [],
   "source": [
    "landsat_clouds = prep_landsat_clouds(landsat)"
   ]
  },
  {
   "cell_type": "code",
   "execution_count": 7,
   "id": "61b7745a-927c-4633-943c-f7deaf6197f0",
   "metadata": {},
   "outputs": [],
   "source": [
    "def add_ndvi_band(im):\n",
    "    im = im.addBands(im.normalizedDifference(['nir','red']).rename('NDVI')) \n",
    "    im = im.addBands(im.normalizedDifference(['green','swir1']).rename('MNDWI'))\n",
    "    im = im.updateMask(im.select(['clouds_shadows']).eq(0))\n",
    "    im = im.float()\n",
    "    return im\n",
    "\n",
    "landsat_bands = landsat_clouds.map(add_ndvi_band)\n",
    "# landsat_bands.size().getInfo()\n"
   ]
  },
  {
   "cell_type": "code",
   "execution_count": 8,
   "id": "35954d8b",
   "metadata": {},
   "outputs": [
    {
     "data": {
      "text/plain": [
       "['swir2',\n",
       " 'swir1',\n",
       " 'nir',\n",
       " 'red',\n",
       " 'green',\n",
       " 'blue',\n",
       " 'clouds',\n",
       " 'shadows',\n",
       " 'clouds_shadows',\n",
       " 'NDVI',\n",
       " 'MNDWI']"
      ]
     },
     "execution_count": 8,
     "metadata": {},
     "output_type": "execute_result"
    }
   ],
   "source": [
    "# landsat_bands.first().bandNames().getInfo()"
   ]
  },
  {
   "cell_type": "code",
   "execution_count": 9,
   "id": "e4d65e6b-fc75-480a-88bc-52c70f7c9fa6",
   "metadata": {},
   "outputs": [],
   "source": [
    "def season_median(ic, start_date, end_date, season_name):\n",
    "    \n",
    "    # print('start_date',start_date)\n",
    "    # print('end_date',end_date)\n",
    "    band_names_orig = ['nir','red','green','blue','NDVI','MNDWI']\n",
    "    band_names_median = [name + '_median' for name in band_names_orig]\n",
    "    band_names_season = [name + '_' + season_name for name in band_names_orig]\n",
    "    band_names_max = [name + '_max' for name in band_names_orig]\n",
    "    ic = ic \\\n",
    "      .filterDate(start_date, end_date)\n",
    "    num_images = ic.size().getInfo()\n",
    "    print(season_name + ' num images:',num_images)\n",
    "    \n",
    "    season_median = ic \\\n",
    "      .reduce(ee.Reducer.median()) \\\n",
    "      .select(band_names_median, band_names_season)\n",
    "    season_max = ic \\\n",
    "      .reduce(ee.Reducer.max()) \\\n",
    "      .select(['NDVI_max'], ['NDVI_max_' + season_name])\n",
    "    season_median = season_median \\\n",
    "      .addBands(ic.select(['NDVI']).reduce(ee.Reducer.count()).rename(season_name + '_count')) \\\n",
    "      .addBands(season_max)\n",
    "    \n",
    "    return season_median"
   ]
  },
  {
   "cell_type": "code",
   "execution_count": 10,
   "id": "70b896d6-1479-4df3-a983-d8390459d5f2",
   "metadata": {},
   "outputs": [],
   "source": [
    "def get_im_seasons(ic, monsoon_year, ndvi_threshold = 0.2):\n",
    "    \n",
    "    print('Starting monsoon year:', monsoon_year)\n",
    "    \n",
    "    # specify the dates for each of the seasons\n",
    "    kharif_start_dt = datetime.strptime(str(monsoon_year) + \"-06-01\", \"%Y-%m-%d\")\n",
    "    kharif_start_date = datetime.strftime(kharif_start_dt, \"%Y-%m-%d\")\n",
    "    rabi_start_date = datetime.strftime(kharif_start_dt + relativedelta(months = 4), \"%Y-%m-%d\")\n",
    "    summer_start_date = datetime.strftime(kharif_start_dt + relativedelta(months = 8), \"%Y-%m-%d\")\n",
    "    summer_end_date = datetime.strftime(kharif_start_dt + relativedelta(months = 12), \"%Y-%m-%d\")\n",
    "\n",
    "    # calculate the median bands for each of the seasons\n",
    "    im_kharif = season_median(ic, kharif_start_date, rabi_start_date, 'kharif')\n",
    "    im_rabi = season_median(ic, rabi_start_date, summer_start_date, 'rabi')\n",
    "    im_summer = season_median(ic, summer_start_date, summer_end_date, 'summer')\n",
    "    \n",
    "    # combine the bands from each season to a single image\n",
    "    im_seasons = im_kharif \\\n",
    "      .addBands(im_rabi) \\\n",
    "      .addBands(im_summer) \\\n",
    "      .set('monsoon_year', monsoon_year)\n",
    "    \n",
    "    im_seasons = im_seasons.addBands(\n",
    "        im_seasons.select(['NDVI_kharif']).gt(ndvi_threshold).rename('kharif_crops')).addBands(\n",
    "        im_seasons.select(['NDVI_rabi']).gt(ndvi_threshold).rename('rabi_crops')).addBands(\n",
    "        im_seasons.select(['NDVI_summer']).gt(ndvi_threshold).rename('summer_crops')) #.addBands(\n",
    "        # im_seasons.expression('(im.NDVI_kharif > 0.25) + (im.NDVI_rabi > 0.25) + (im.NDVI_summer > 0.25)', \n",
    "        #   {'im':im_seasons}).rename('crops'))\n",
    "    im_seasons = im_seasons.addBands(\n",
    "        im_seasons.select(['kharif_crops','rabi_crops','summer_crops']).reduce(ee.Reducer.sum()).rename('crops'))\n",
    "        \n",
    "\n",
    "    return im_seasons"
   ]
  },
  {
   "cell_type": "code",
   "execution_count": 11,
   "id": "49d12fa5-5099-47bc-bca4-952701b2a9c8",
   "metadata": {},
   "outputs": [],
   "source": [
    "# monsoon_year = 2015\n",
    "# im_seasons_05 = get_im_seasons(landsat_bands, 2005)\n",
    "# im_seasons_06 = get_im_seasons(landsat_bands, 2006)\n",
    "# im_seasons_06.bandNames().getInfo()"
   ]
  },
  {
   "cell_type": "code",
   "execution_count": 15,
   "id": "01c957db",
   "metadata": {},
   "outputs": [
    {
     "name": "stdout",
     "output_type": "stream",
     "text": [
      "Starting monsoon year: 2006\n",
      "kharif num images: 30\n",
      "rabi num images: 57\n",
      "summer num images: 77\n"
     ]
    }
   ],
   "source": [
    "\n",
    "# im_seasons_05_25 = get_im_seasons(landsat_bands, 2005, 0.25)\n",
    "# im_seasons_06_25 = get_im_seasons(landsat_bands, 2006, 0.25)\n",
    "# im_seasons_07_25 = get_im_seasons(landsat_bands, 2007, 0.25)\n",
    "\n",
    "im_seasons_06_22 = get_im_seasons(landsat_bands, 2006, 0.22)\n",
    "\n",
    "# im_seasons_05_20 = get_im_seasons(landsat_bands, 2005, 0.2)\n",
    "# im_seasons_06_20 = get_im_seasons(landsat_bands, 2006, 0.2)\n",
    "# im_seasons_07_20 = get_im_seasons(landsat_bands, 2007, 0.2)\n",
    "\n",
    "\n",
    "# print(im_season)\n",
    "# im_seasons_15 = get_im_seasons(landsat_bands, 2015)\n",
    "# im_seasons_16 = get_im_seasons(landsat_bands, 2016)\n",
    "# im_seasons_17 = get_im_seasons(landsat_bands, 2017)\n",
    "# im_seasons_18 = get_im_seasons(landsat_bands, 2018)\n",
    "# im_seasons_19 = get_im_seasons(landsat_bands, 2019)\n",
    "# im_seasons_20 = get_im_seasons(landsat_bands, 2020)\n",
    "# im_seasons_21 = get_im_seasons(landsat_bands, 2021)"
   ]
  },
  {
   "cell_type": "code",
   "execution_count": 14,
   "id": "31c36656-6656-4a0a-bb35-3f4a4be81203",
   "metadata": {},
   "outputs": [
    {
     "data": {
      "text/plain": [
       "3"
      ]
     },
     "execution_count": 14,
     "metadata": {},
     "output_type": "execute_result"
    }
   ],
   "source": [
    "im_seasons_all = ee.ImageCollection([im_seasons_15, \n",
    "                                     im_seasons_16,\n",
    "                                    #  im_seasons_17,\n",
    "                                    #  im_seasons_18,\n",
    "                                    #  im_seasons_19,\n",
    "                                    #  im_seasons_20,\n",
    "                                     im_seasons_21])\n"
   ]
  },
  {
   "cell_type": "code",
   "execution_count": 16,
   "id": "d3881f96",
   "metadata": {},
   "outputs": [],
   "source": [
    "\n",
    "m16.addLayer(im_seasons_06_22.clip(ee_geometry), {'bands':['crops'], 'min':0, 'max':3, 'palette': colors},'crops 2006 NDVI>0.22')"
   ]
  },
  {
   "cell_type": "code",
   "execution_count": 15,
   "id": "a95dee78-6e44-4e38-9d12-0a582c541eb5",
   "metadata": {},
   "outputs": [],
   "source": [
    "def get_crops_bit_adj(im):\n",
    "    monsoon_year = im.get('monsoon_year')\n",
    "    crops_year_diff = ee.Number(monsoon_year).subtract(2015)\n",
    "    crops_mult = ee.Number(4).pow(crops_year_diff)\n",
    "    \n",
    "    return im.select(['crops']).multiply(crops_mult)\n",
    "    # crops_bit = \n",
    "    \n",
    "    \n",
    "crops_2bit_base2015 = im_seasons_all \\\n",
    "  .filter(ee.Filter.lte('monsoon_year',2015)) \\\n",
    "  .map(get_crops_bit_adj) \\\n",
    "  .reduce(ee.Reducer.sum())\n",
    "    "
   ]
  },
  {
   "cell_type": "code",
   "execution_count": 16,
   "id": "5534a05f-704d-42a8-837f-c0bd8e36ab4e",
   "metadata": {},
   "outputs": [
    {
     "data": {
      "text/plain": [
       "{'type': 'Image',\n",
       " 'bands': [{'id': '0_crops',\n",
       "   'data_type': {'type': 'PixelType', 'precision': 'int', 'min': 0, 'max': 3},\n",
       "   'crs': 'EPSG:4326',\n",
       "   'crs_transform': [1, 0, 0, 0, 1, 0]},\n",
       "  {'id': '1_crops',\n",
       "   'data_type': {'type': 'PixelType', 'precision': 'int', 'min': 0, 'max': 3},\n",
       "   'crs': 'EPSG:4326',\n",
       "   'crs_transform': [1, 0, 0, 0, 1, 0]},\n",
       "  {'id': '2_crops',\n",
       "   'data_type': {'type': 'PixelType', 'precision': 'int', 'min': 0, 'max': 3},\n",
       "   'crs': 'EPSG:4326',\n",
       "   'crs_transform': [1, 0, 0, 0, 1, 0]}]}"
      ]
     },
     "execution_count": 16,
     "metadata": {},
     "output_type": "execute_result"
    }
   ],
   "source": [
    "def select_crops_year(im):\n",
    "    monsoon_year = ee.String(im.get('monsoon_year'))\n",
    "    band_name = ee.String('y').cat(monsoon_year)\n",
    "    \n",
    "    return im.select(['crops'],[band_name])\n",
    "    \n",
    "\n",
    "crops_bands = im_seasons_all.select(['crops']).toBands()\n",
    "\n",
    "crops_bands.getInfo()"
   ]
  },
  {
   "cell_type": "code",
   "execution_count": 17,
   "id": "0391042d-568e-4222-ade3-304def5912e2",
   "metadata": {},
   "outputs": [
    {
     "data": {
      "application/vnd.jupyter.widget-view+json": {
       "model_id": "eb80481813c3435c82e9df2de65e3aa2",
       "version_major": 2,
       "version_minor": 0
      },
      "text/plain": [
       "Map(center=[11.136097907071127, 77.87794595904944], controls=(WidgetControl(options=['position', 'transparent_…"
      ]
     },
     "metadata": {},
     "output_type": "display_data"
    }
   ],
   "source": [
    "mall = geemap.Map()\n",
    "\n",
    "mall.addLayer(crops_2bit_base2015,{'min':0,'max':16000},'crops_2bit_base2015')\n",
    "mall.centerObject(ee_geometry_box, 10)\n",
    "mall.addLayerControl()\n",
    "mall"
   ]
  },
  {
   "cell_type": "code",
   "execution_count": 18,
   "id": "76f75558-2ed0-4e60-a16f-ae53047bb1ad",
   "metadata": {},
   "outputs": [],
   "source": [
    "crops_task = ee.batch.Export.image.toDrive(\n",
    "    image = crops_bands,\n",
    "    description = 'crops_bands',\n",
    "    folder = 'classy_downloads',\n",
    "    fileNamePrefix = 'karur_crops_2015_2021',\n",
    "    region = ee_geometry_box,\n",
    "    scale = 30)\n",
    "\n",
    "# crops_task.start()"
   ]
  },
  {
   "cell_type": "code",
   "execution_count": null,
   "id": "4396ade7-abcf-41bd-b6a9-961b389550e1",
   "metadata": {},
   "outputs": [],
   "source": [
    "ee.batch.Export.image"
   ]
  },
  {
   "cell_type": "code",
   "execution_count": 19,
   "id": "b41c425b-8c80-4d88-9234-86c585a850e8",
   "metadata": {},
   "outputs": [
    {
     "data": {
      "text/html": [
       "<div><style>:root {\n",
       "  --font-color-primary: var(--jp-content-font-color0, rgba(0, 0, 0, 1));\n",
       "  --font-color-secondary: var(--jp-content-font-color2, rgba(0, 0, 0, 0.6));\n",
       "  --font-color-accent: rgba(123, 31, 162, 1);\n",
       "  --border-color: var(--jp-border-color2, #e0e0e0);\n",
       "  --background-color: var(--jp-layout-color0, white);\n",
       "  --background-color-row-even: var(--jp-layout-color1, white);\n",
       "  --background-color-row-odd: var(--jp-layout-color2, #eeeeee);\n",
       "}\n",
       "\n",
       "html[theme=\"dark\"],\n",
       "body[data-theme=\"dark\"],\n",
       "body.vscode-dark {\n",
       "  --font-color-primary: rgba(255, 255, 255, 1);\n",
       "  --font-color-secondary: rgba(255, 255, 255, 0.6);\n",
       "  --font-color-accent: rgb(173, 132, 190);\n",
       "  --border-color: #2e2e2e;\n",
       "  --background-color: #111111;\n",
       "  --background-color-row-even: #111111;\n",
       "  --background-color-row-odd: #313131;\n",
       "}\n",
       "\n",
       ".ee {\n",
       "  padding: 1em;\n",
       "  line-height: 1.5em;\n",
       "  min-width: 300px;\n",
       "  max-width: 1200px;\n",
       "  overflow-y: scroll;\n",
       "  max-height: 600px;\n",
       "  border: 1px solid var(--border-color);\n",
       "  font-family: monospace;\n",
       "}\n",
       "\n",
       ".ee li {\n",
       "  list-style-type: none;\n",
       "}\n",
       "\n",
       ".ee ul {\n",
       "  padding-left: 1.5em !important;\n",
       "  margin: 0;\n",
       "}\n",
       "\n",
       ".ee > ul {\n",
       "  padding-left: 0 !important;\n",
       "}\n",
       "\n",
       ".ee-open,\n",
       ".ee-shut {\n",
       "  color: var(--font-color-secondary);\n",
       "  cursor: pointer;\n",
       "  margin: 0;\n",
       "}\n",
       "\n",
       ".ee-open:hover,\n",
       ".ee-shut:hover {\n",
       "  color: var(--font-color-primary);\n",
       "}\n",
       "\n",
       ".ee-k {\n",
       "  color: var(--font-color-accent);\n",
       "  margin-right: 6px;\n",
       "}\n",
       "\n",
       ".ee-v {\n",
       "  color: var(--font-color-primary);\n",
       "}\n",
       "\n",
       ".ee-toggle {\n",
       "  display: none;\n",
       "}\n",
       "\n",
       ".ee-shut + ul {\n",
       "  display: none;\n",
       "}\n",
       "\n",
       ".ee-open + ul {\n",
       "  display: block;\n",
       "}\n",
       "\n",
       ".ee-shut::before {\n",
       "  display: inline-block;\n",
       "  content: \"▼\";\n",
       "  margin-right: 6px;\n",
       "  transform: rotate(-90deg);\n",
       "  transition: transform 0.2s;\n",
       "}\n",
       "\n",
       ".ee-open::before {\n",
       "  transform: rotate(0deg);\n",
       "  display: inline-block;\n",
       "  content: \"▼\";\n",
       "  margin-right: 6px;\n",
       "  transition: transform 0.2s;\n",
       "}\n",
       "</style><div class='ee'><ul><li><label class='ee-shut'>Image (20 bands)<input type='checkbox' class='ee-toggle'></label><ul><li><span class='ee-k'>type:</span><span class='ee-v'>Image</span></li><li><label class='ee-shut'>bands: List (20 elements)<input type='checkbox' class='ee-toggle'></label><ul><li><label class='ee-shut'>0: \"SR_B5_kharif\", float, EPSG:4326<input type='checkbox' class='ee-toggle'></label><ul><li><span class='ee-k'>id:</span><span class='ee-v'>SR_B5_kharif</span></li><li><span class='ee-k'>crs:</span><span class='ee-v'>EPSG:4326</span></li><li><label class='ee-shut'>crs_transform: [1, 0, 0, 0, 1, 0]<input type='checkbox' class='ee-toggle'></label><ul><li><span class='ee-k'>0:</span><span class='ee-v'>1</span></li><li><span class='ee-k'>1:</span><span class='ee-v'>0</span></li><li><span class='ee-k'>2:</span><span class='ee-v'>0</span></li><li><span class='ee-k'>3:</span><span class='ee-v'>0</span></li><li><span class='ee-k'>4:</span><span class='ee-v'>1</span></li><li><span class='ee-k'>5:</span><span class='ee-v'>0</span></li></ul></li><li><label class='ee-shut'>data_type: float<input type='checkbox' class='ee-toggle'></label><ul><li><span class='ee-k'>type:</span><span class='ee-v'>PixelType</span></li><li><span class='ee-k'>precision:</span><span class='ee-v'>float</span></li></ul></li></ul></li><li><label class='ee-shut'>1: \"SR_B4_kharif\", float, EPSG:4326<input type='checkbox' class='ee-toggle'></label><ul><li><span class='ee-k'>id:</span><span class='ee-v'>SR_B4_kharif</span></li><li><span class='ee-k'>crs:</span><span class='ee-v'>EPSG:4326</span></li><li><label class='ee-shut'>crs_transform: [1, 0, 0, 0, 1, 0]<input type='checkbox' class='ee-toggle'></label><ul><li><span class='ee-k'>0:</span><span class='ee-v'>1</span></li><li><span class='ee-k'>1:</span><span class='ee-v'>0</span></li><li><span class='ee-k'>2:</span><span class='ee-v'>0</span></li><li><span class='ee-k'>3:</span><span class='ee-v'>0</span></li><li><span class='ee-k'>4:</span><span class='ee-v'>1</span></li><li><span class='ee-k'>5:</span><span class='ee-v'>0</span></li></ul></li><li><label class='ee-shut'>data_type: float<input type='checkbox' class='ee-toggle'></label><ul><li><span class='ee-k'>type:</span><span class='ee-v'>PixelType</span></li><li><span class='ee-k'>precision:</span><span class='ee-v'>float</span></li></ul></li></ul></li><li><label class='ee-shut'>2: \"SR_B3_kharif\", float, EPSG:4326<input type='checkbox' class='ee-toggle'></label><ul><li><span class='ee-k'>id:</span><span class='ee-v'>SR_B3_kharif</span></li><li><span class='ee-k'>crs:</span><span class='ee-v'>EPSG:4326</span></li><li><label class='ee-shut'>crs_transform: [1, 0, 0, 0, 1, 0]<input type='checkbox' class='ee-toggle'></label><ul><li><span class='ee-k'>0:</span><span class='ee-v'>1</span></li><li><span class='ee-k'>1:</span><span class='ee-v'>0</span></li><li><span class='ee-k'>2:</span><span class='ee-v'>0</span></li><li><span class='ee-k'>3:</span><span class='ee-v'>0</span></li><li><span class='ee-k'>4:</span><span class='ee-v'>1</span></li><li><span class='ee-k'>5:</span><span class='ee-v'>0</span></li></ul></li><li><label class='ee-shut'>data_type: float<input type='checkbox' class='ee-toggle'></label><ul><li><span class='ee-k'>type:</span><span class='ee-v'>PixelType</span></li><li><span class='ee-k'>precision:</span><span class='ee-v'>float</span></li></ul></li></ul></li><li><label class='ee-shut'>3: \"SR_B2_kharif\", float, EPSG:4326<input type='checkbox' class='ee-toggle'></label><ul><li><span class='ee-k'>id:</span><span class='ee-v'>SR_B2_kharif</span></li><li><span class='ee-k'>crs:</span><span class='ee-v'>EPSG:4326</span></li><li><label class='ee-shut'>crs_transform: [1, 0, 0, 0, 1, 0]<input type='checkbox' class='ee-toggle'></label><ul><li><span class='ee-k'>0:</span><span class='ee-v'>1</span></li><li><span class='ee-k'>1:</span><span class='ee-v'>0</span></li><li><span class='ee-k'>2:</span><span class='ee-v'>0</span></li><li><span class='ee-k'>3:</span><span class='ee-v'>0</span></li><li><span class='ee-k'>4:</span><span class='ee-v'>1</span></li><li><span class='ee-k'>5:</span><span class='ee-v'>0</span></li></ul></li><li><label class='ee-shut'>data_type: float<input type='checkbox' class='ee-toggle'></label><ul><li><span class='ee-k'>type:</span><span class='ee-v'>PixelType</span></li><li><span class='ee-k'>precision:</span><span class='ee-v'>float</span></li></ul></li></ul></li><li><label class='ee-shut'>4: \"NDVI_kharif\", float, EPSG:4326<input type='checkbox' class='ee-toggle'></label><ul><li><span class='ee-k'>id:</span><span class='ee-v'>NDVI_kharif</span></li><li><span class='ee-k'>crs:</span><span class='ee-v'>EPSG:4326</span></li><li><label class='ee-shut'>crs_transform: [1, 0, 0, 0, 1, 0]<input type='checkbox' class='ee-toggle'></label><ul><li><span class='ee-k'>0:</span><span class='ee-v'>1</span></li><li><span class='ee-k'>1:</span><span class='ee-v'>0</span></li><li><span class='ee-k'>2:</span><span class='ee-v'>0</span></li><li><span class='ee-k'>3:</span><span class='ee-v'>0</span></li><li><span class='ee-k'>4:</span><span class='ee-v'>1</span></li><li><span class='ee-k'>5:</span><span class='ee-v'>0</span></li></ul></li><li><label class='ee-shut'>data_type: float<input type='checkbox' class='ee-toggle'></label><ul><li><span class='ee-k'>type:</span><span class='ee-v'>PixelType</span></li><li><span class='ee-k'>precision:</span><span class='ee-v'>float</span></li></ul></li></ul></li><li><label class='ee-shut'>5: \"MNDWI_kharif\", float, EPSG:4326<input type='checkbox' class='ee-toggle'></label><ul><li><span class='ee-k'>id:</span><span class='ee-v'>MNDWI_kharif</span></li><li><span class='ee-k'>crs:</span><span class='ee-v'>EPSG:4326</span></li><li><label class='ee-shut'>crs_transform: [1, 0, 0, 0, 1, 0]<input type='checkbox' class='ee-toggle'></label><ul><li><span class='ee-k'>0:</span><span class='ee-v'>1</span></li><li><span class='ee-k'>1:</span><span class='ee-v'>0</span></li><li><span class='ee-k'>2:</span><span class='ee-v'>0</span></li><li><span class='ee-k'>3:</span><span class='ee-v'>0</span></li><li><span class='ee-k'>4:</span><span class='ee-v'>1</span></li><li><span class='ee-k'>5:</span><span class='ee-v'>0</span></li></ul></li><li><label class='ee-shut'>data_type: float<input type='checkbox' class='ee-toggle'></label><ul><li><span class='ee-k'>type:</span><span class='ee-v'>PixelType</span></li><li><span class='ee-k'>precision:</span><span class='ee-v'>float</span></li></ul></li></ul></li><li><label class='ee-shut'>6: \"SR_B5_rabi\", float, EPSG:4326<input type='checkbox' class='ee-toggle'></label><ul><li><span class='ee-k'>id:</span><span class='ee-v'>SR_B5_rabi</span></li><li><span class='ee-k'>crs:</span><span class='ee-v'>EPSG:4326</span></li><li><label class='ee-shut'>crs_transform: [1, 0, 0, 0, 1, 0]<input type='checkbox' class='ee-toggle'></label><ul><li><span class='ee-k'>0:</span><span class='ee-v'>1</span></li><li><span class='ee-k'>1:</span><span class='ee-v'>0</span></li><li><span class='ee-k'>2:</span><span class='ee-v'>0</span></li><li><span class='ee-k'>3:</span><span class='ee-v'>0</span></li><li><span class='ee-k'>4:</span><span class='ee-v'>1</span></li><li><span class='ee-k'>5:</span><span class='ee-v'>0</span></li></ul></li><li><label class='ee-shut'>data_type: float<input type='checkbox' class='ee-toggle'></label><ul><li><span class='ee-k'>type:</span><span class='ee-v'>PixelType</span></li><li><span class='ee-k'>precision:</span><span class='ee-v'>float</span></li></ul></li></ul></li><li><label class='ee-shut'>7: \"SR_B4_rabi\", float, EPSG:4326<input type='checkbox' class='ee-toggle'></label><ul><li><span class='ee-k'>id:</span><span class='ee-v'>SR_B4_rabi</span></li><li><span class='ee-k'>crs:</span><span class='ee-v'>EPSG:4326</span></li><li><label class='ee-shut'>crs_transform: [1, 0, 0, 0, 1, 0]<input type='checkbox' class='ee-toggle'></label><ul><li><span class='ee-k'>0:</span><span class='ee-v'>1</span></li><li><span class='ee-k'>1:</span><span class='ee-v'>0</span></li><li><span class='ee-k'>2:</span><span class='ee-v'>0</span></li><li><span class='ee-k'>3:</span><span class='ee-v'>0</span></li><li><span class='ee-k'>4:</span><span class='ee-v'>1</span></li><li><span class='ee-k'>5:</span><span class='ee-v'>0</span></li></ul></li><li><label class='ee-shut'>data_type: float<input type='checkbox' class='ee-toggle'></label><ul><li><span class='ee-k'>type:</span><span class='ee-v'>PixelType</span></li><li><span class='ee-k'>precision:</span><span class='ee-v'>float</span></li></ul></li></ul></li><li><label class='ee-shut'>8: \"SR_B3_rabi\", float, EPSG:4326<input type='checkbox' class='ee-toggle'></label><ul><li><span class='ee-k'>id:</span><span class='ee-v'>SR_B3_rabi</span></li><li><span class='ee-k'>crs:</span><span class='ee-v'>EPSG:4326</span></li><li><label class='ee-shut'>crs_transform: [1, 0, 0, 0, 1, 0]<input type='checkbox' class='ee-toggle'></label><ul><li><span class='ee-k'>0:</span><span class='ee-v'>1</span></li><li><span class='ee-k'>1:</span><span class='ee-v'>0</span></li><li><span class='ee-k'>2:</span><span class='ee-v'>0</span></li><li><span class='ee-k'>3:</span><span class='ee-v'>0</span></li><li><span class='ee-k'>4:</span><span class='ee-v'>1</span></li><li><span class='ee-k'>5:</span><span class='ee-v'>0</span></li></ul></li><li><label class='ee-shut'>data_type: float<input type='checkbox' class='ee-toggle'></label><ul><li><span class='ee-k'>type:</span><span class='ee-v'>PixelType</span></li><li><span class='ee-k'>precision:</span><span class='ee-v'>float</span></li></ul></li></ul></li><li><label class='ee-shut'>9: \"SR_B2_rabi\", float, EPSG:4326<input type='checkbox' class='ee-toggle'></label><ul><li><span class='ee-k'>id:</span><span class='ee-v'>SR_B2_rabi</span></li><li><span class='ee-k'>crs:</span><span class='ee-v'>EPSG:4326</span></li><li><label class='ee-shut'>crs_transform: [1, 0, 0, 0, 1, 0]<input type='checkbox' class='ee-toggle'></label><ul><li><span class='ee-k'>0:</span><span class='ee-v'>1</span></li><li><span class='ee-k'>1:</span><span class='ee-v'>0</span></li><li><span class='ee-k'>2:</span><span class='ee-v'>0</span></li><li><span class='ee-k'>3:</span><span class='ee-v'>0</span></li><li><span class='ee-k'>4:</span><span class='ee-v'>1</span></li><li><span class='ee-k'>5:</span><span class='ee-v'>0</span></li></ul></li><li><label class='ee-shut'>data_type: float<input type='checkbox' class='ee-toggle'></label><ul><li><span class='ee-k'>type:</span><span class='ee-v'>PixelType</span></li><li><span class='ee-k'>precision:</span><span class='ee-v'>float</span></li></ul></li></ul></li><li><label class='ee-shut'>10: \"NDVI_rabi\", float, EPSG:4326<input type='checkbox' class='ee-toggle'></label><ul><li><span class='ee-k'>id:</span><span class='ee-v'>NDVI_rabi</span></li><li><span class='ee-k'>crs:</span><span class='ee-v'>EPSG:4326</span></li><li><label class='ee-shut'>crs_transform: [1, 0, 0, 0, 1, 0]<input type='checkbox' class='ee-toggle'></label><ul><li><span class='ee-k'>0:</span><span class='ee-v'>1</span></li><li><span class='ee-k'>1:</span><span class='ee-v'>0</span></li><li><span class='ee-k'>2:</span><span class='ee-v'>0</span></li><li><span class='ee-k'>3:</span><span class='ee-v'>0</span></li><li><span class='ee-k'>4:</span><span class='ee-v'>1</span></li><li><span class='ee-k'>5:</span><span class='ee-v'>0</span></li></ul></li><li><label class='ee-shut'>data_type: float<input type='checkbox' class='ee-toggle'></label><ul><li><span class='ee-k'>type:</span><span class='ee-v'>PixelType</span></li><li><span class='ee-k'>precision:</span><span class='ee-v'>float</span></li></ul></li></ul></li><li><label class='ee-shut'>11: \"MNDWI_rabi\", float, EPSG:4326<input type='checkbox' class='ee-toggle'></label><ul><li><span class='ee-k'>id:</span><span class='ee-v'>MNDWI_rabi</span></li><li><span class='ee-k'>crs:</span><span class='ee-v'>EPSG:4326</span></li><li><label class='ee-shut'>crs_transform: [1, 0, 0, 0, 1, 0]<input type='checkbox' class='ee-toggle'></label><ul><li><span class='ee-k'>0:</span><span class='ee-v'>1</span></li><li><span class='ee-k'>1:</span><span class='ee-v'>0</span></li><li><span class='ee-k'>2:</span><span class='ee-v'>0</span></li><li><span class='ee-k'>3:</span><span class='ee-v'>0</span></li><li><span class='ee-k'>4:</span><span class='ee-v'>1</span></li><li><span class='ee-k'>5:</span><span class='ee-v'>0</span></li></ul></li><li><label class='ee-shut'>data_type: float<input type='checkbox' class='ee-toggle'></label><ul><li><span class='ee-k'>type:</span><span class='ee-v'>PixelType</span></li><li><span class='ee-k'>precision:</span><span class='ee-v'>float</span></li></ul></li></ul></li><li><label class='ee-shut'>12: \"SR_B5_summer\", float, EPSG:4326<input type='checkbox' class='ee-toggle'></label><ul><li><span class='ee-k'>id:</span><span class='ee-v'>SR_B5_summer</span></li><li><span class='ee-k'>crs:</span><span class='ee-v'>EPSG:4326</span></li><li><label class='ee-shut'>crs_transform: [1, 0, 0, 0, 1, 0]<input type='checkbox' class='ee-toggle'></label><ul><li><span class='ee-k'>0:</span><span class='ee-v'>1</span></li><li><span class='ee-k'>1:</span><span class='ee-v'>0</span></li><li><span class='ee-k'>2:</span><span class='ee-v'>0</span></li><li><span class='ee-k'>3:</span><span class='ee-v'>0</span></li><li><span class='ee-k'>4:</span><span class='ee-v'>1</span></li><li><span class='ee-k'>5:</span><span class='ee-v'>0</span></li></ul></li><li><label class='ee-shut'>data_type: float<input type='checkbox' class='ee-toggle'></label><ul><li><span class='ee-k'>type:</span><span class='ee-v'>PixelType</span></li><li><span class='ee-k'>precision:</span><span class='ee-v'>float</span></li></ul></li></ul></li><li><label class='ee-shut'>13: \"SR_B4_summer\", float, EPSG:4326<input type='checkbox' class='ee-toggle'></label><ul><li><span class='ee-k'>id:</span><span class='ee-v'>SR_B4_summer</span></li><li><span class='ee-k'>crs:</span><span class='ee-v'>EPSG:4326</span></li><li><label class='ee-shut'>crs_transform: [1, 0, 0, 0, 1, 0]<input type='checkbox' class='ee-toggle'></label><ul><li><span class='ee-k'>0:</span><span class='ee-v'>1</span></li><li><span class='ee-k'>1:</span><span class='ee-v'>0</span></li><li><span class='ee-k'>2:</span><span class='ee-v'>0</span></li><li><span class='ee-k'>3:</span><span class='ee-v'>0</span></li><li><span class='ee-k'>4:</span><span class='ee-v'>1</span></li><li><span class='ee-k'>5:</span><span class='ee-v'>0</span></li></ul></li><li><label class='ee-shut'>data_type: float<input type='checkbox' class='ee-toggle'></label><ul><li><span class='ee-k'>type:</span><span class='ee-v'>PixelType</span></li><li><span class='ee-k'>precision:</span><span class='ee-v'>float</span></li></ul></li></ul></li><li><label class='ee-shut'>14: \"SR_B3_summer\", float, EPSG:4326<input type='checkbox' class='ee-toggle'></label><ul><li><span class='ee-k'>id:</span><span class='ee-v'>SR_B3_summer</span></li><li><span class='ee-k'>crs:</span><span class='ee-v'>EPSG:4326</span></li><li><label class='ee-shut'>crs_transform: [1, 0, 0, 0, 1, 0]<input type='checkbox' class='ee-toggle'></label><ul><li><span class='ee-k'>0:</span><span class='ee-v'>1</span></li><li><span class='ee-k'>1:</span><span class='ee-v'>0</span></li><li><span class='ee-k'>2:</span><span class='ee-v'>0</span></li><li><span class='ee-k'>3:</span><span class='ee-v'>0</span></li><li><span class='ee-k'>4:</span><span class='ee-v'>1</span></li><li><span class='ee-k'>5:</span><span class='ee-v'>0</span></li></ul></li><li><label class='ee-shut'>data_type: float<input type='checkbox' class='ee-toggle'></label><ul><li><span class='ee-k'>type:</span><span class='ee-v'>PixelType</span></li><li><span class='ee-k'>precision:</span><span class='ee-v'>float</span></li></ul></li></ul></li><li><label class='ee-shut'>15: \"SR_B2_summer\", float, EPSG:4326<input type='checkbox' class='ee-toggle'></label><ul><li><span class='ee-k'>id:</span><span class='ee-v'>SR_B2_summer</span></li><li><span class='ee-k'>crs:</span><span class='ee-v'>EPSG:4326</span></li><li><label class='ee-shut'>crs_transform: [1, 0, 0, 0, 1, 0]<input type='checkbox' class='ee-toggle'></label><ul><li><span class='ee-k'>0:</span><span class='ee-v'>1</span></li><li><span class='ee-k'>1:</span><span class='ee-v'>0</span></li><li><span class='ee-k'>2:</span><span class='ee-v'>0</span></li><li><span class='ee-k'>3:</span><span class='ee-v'>0</span></li><li><span class='ee-k'>4:</span><span class='ee-v'>1</span></li><li><span class='ee-k'>5:</span><span class='ee-v'>0</span></li></ul></li><li><label class='ee-shut'>data_type: float<input type='checkbox' class='ee-toggle'></label><ul><li><span class='ee-k'>type:</span><span class='ee-v'>PixelType</span></li><li><span class='ee-k'>precision:</span><span class='ee-v'>float</span></li></ul></li></ul></li><li><label class='ee-shut'>16: \"NDVI_summer\", float, EPSG:4326<input type='checkbox' class='ee-toggle'></label><ul><li><span class='ee-k'>id:</span><span class='ee-v'>NDVI_summer</span></li><li><span class='ee-k'>crs:</span><span class='ee-v'>EPSG:4326</span></li><li><label class='ee-shut'>crs_transform: [1, 0, 0, 0, 1, 0]<input type='checkbox' class='ee-toggle'></label><ul><li><span class='ee-k'>0:</span><span class='ee-v'>1</span></li><li><span class='ee-k'>1:</span><span class='ee-v'>0</span></li><li><span class='ee-k'>2:</span><span class='ee-v'>0</span></li><li><span class='ee-k'>3:</span><span class='ee-v'>0</span></li><li><span class='ee-k'>4:</span><span class='ee-v'>1</span></li><li><span class='ee-k'>5:</span><span class='ee-v'>0</span></li></ul></li><li><label class='ee-shut'>data_type: float<input type='checkbox' class='ee-toggle'></label><ul><li><span class='ee-k'>type:</span><span class='ee-v'>PixelType</span></li><li><span class='ee-k'>precision:</span><span class='ee-v'>float</span></li></ul></li></ul></li><li><label class='ee-shut'>17: \"MNDWI_summer\", float, EPSG:4326<input type='checkbox' class='ee-toggle'></label><ul><li><span class='ee-k'>id:</span><span class='ee-v'>MNDWI_summer</span></li><li><span class='ee-k'>crs:</span><span class='ee-v'>EPSG:4326</span></li><li><label class='ee-shut'>crs_transform: [1, 0, 0, 0, 1, 0]<input type='checkbox' class='ee-toggle'></label><ul><li><span class='ee-k'>0:</span><span class='ee-v'>1</span></li><li><span class='ee-k'>1:</span><span class='ee-v'>0</span></li><li><span class='ee-k'>2:</span><span class='ee-v'>0</span></li><li><span class='ee-k'>3:</span><span class='ee-v'>0</span></li><li><span class='ee-k'>4:</span><span class='ee-v'>1</span></li><li><span class='ee-k'>5:</span><span class='ee-v'>0</span></li></ul></li><li><label class='ee-shut'>data_type: float<input type='checkbox' class='ee-toggle'></label><ul><li><span class='ee-k'>type:</span><span class='ee-v'>PixelType</span></li><li><span class='ee-k'>precision:</span><span class='ee-v'>float</span></li></ul></li></ul></li><li><label class='ee-shut'>18: \"crops\", int ∈ [0, 3], EPSG:4326<input type='checkbox' class='ee-toggle'></label><ul><li><span class='ee-k'>id:</span><span class='ee-v'>crops</span></li><li><span class='ee-k'>crs:</span><span class='ee-v'>EPSG:4326</span></li><li><label class='ee-shut'>crs_transform: [1, 0, 0, 0, 1, 0]<input type='checkbox' class='ee-toggle'></label><ul><li><span class='ee-k'>0:</span><span class='ee-v'>1</span></li><li><span class='ee-k'>1:</span><span class='ee-v'>0</span></li><li><span class='ee-k'>2:</span><span class='ee-v'>0</span></li><li><span class='ee-k'>3:</span><span class='ee-v'>0</span></li><li><span class='ee-k'>4:</span><span class='ee-v'>1</span></li><li><span class='ee-k'>5:</span><span class='ee-v'>0</span></li></ul></li><li><label class='ee-shut'>data_type: int ∈ [0, 3]<input type='checkbox' class='ee-toggle'></label><ul><li><span class='ee-k'>type:</span><span class='ee-v'>PixelType</span></li><li><span class='ee-k'>max:</span><span class='ee-v'>3</span></li><li><span class='ee-k'>min:</span><span class='ee-v'>0</span></li><li><span class='ee-k'>precision:</span><span class='ee-v'>int</span></li></ul></li></ul></li><li><label class='ee-shut'>19: \"crops_1\", int ∈ [0, 3], EPSG:4326<input type='checkbox' class='ee-toggle'></label><ul><li><span class='ee-k'>id:</span><span class='ee-v'>crops_1</span></li><li><span class='ee-k'>crs:</span><span class='ee-v'>EPSG:4326</span></li><li><label class='ee-shut'>crs_transform: [1, 0, 0, 0, 1, 0]<input type='checkbox' class='ee-toggle'></label><ul><li><span class='ee-k'>0:</span><span class='ee-v'>1</span></li><li><span class='ee-k'>1:</span><span class='ee-v'>0</span></li><li><span class='ee-k'>2:</span><span class='ee-v'>0</span></li><li><span class='ee-k'>3:</span><span class='ee-v'>0</span></li><li><span class='ee-k'>4:</span><span class='ee-v'>1</span></li><li><span class='ee-k'>5:</span><span class='ee-v'>0</span></li></ul></li><li><label class='ee-shut'>data_type: int ∈ [0, 3]<input type='checkbox' class='ee-toggle'></label><ul><li><span class='ee-k'>type:</span><span class='ee-v'>PixelType</span></li><li><span class='ee-k'>max:</span><span class='ee-v'>3</span></li><li><span class='ee-k'>min:</span><span class='ee-v'>0</span></li><li><span class='ee-k'>precision:</span><span class='ee-v'>int</span></li></ul></li></ul></li></ul></li><li><label class='ee-shut'>properties: Object (1 property)<input type='checkbox' class='ee-toggle'></label><ul><li><span class='ee-k'>monsoon_year:</span><span class='ee-v'>2016</span></li></ul></li></ul></li></ul></div><script>function toggleHeader() {\n",
       "    const parent = this.parentElement;\n",
       "    parent.className = parent.className === \"ee-open\" ? \"ee-shut\" : \"ee-open\";\n",
       "}\n",
       "\n",
       "for (let c of document.getElementsByClassName(\"ee-toggle\")) {\n",
       "    c.onclick = toggleHeader;\n",
       "}</script></div>"
      ],
      "text/plain": [
       "<ee.image.Image at 0x151bd5a00>"
      ]
     },
     "execution_count": 19,
     "metadata": {},
     "output_type": "execute_result"
    }
   ],
   "source": [
    "im_seasons_16 = im_seasons_16.addBands(\n",
    "    im_seasons_16.expression('(im.NDVI_kharif > 0.25) + (im.NDVI_rabi > 0.25) + (im.NDVI_summer > 0.25)', {'im':im_seasons_16}).rename('crops')\n",
    ")\n",
    "\n",
    "im_seasons_16"
   ]
  },
  {
   "cell_type": "code",
   "execution_count": null,
   "id": "dc107401-0308-4825-bcef-7e4f2c9894dd",
   "metadata": {},
   "outputs": [],
   "source": [
    "m.addLayer(oli8.first(), {'bands':['SR_B5','SR_B4','SR_B3'], 'min':5000, 'max':30000},'oli8')\n"
   ]
  },
  {
   "cell_type": "code",
   "execution_count": 24,
   "id": "0369e93d",
   "metadata": {},
   "outputs": [
    {
     "data": {
      "text/plain": [
       "{'type': 'Image',\n",
       " 'bands': [{'id': 'nir_kharif',\n",
       "   'data_type': {'type': 'PixelType', 'precision': 'float'},\n",
       "   'crs': 'EPSG:4326',\n",
       "   'crs_transform': [1, 0, 0, 0, 1, 0]},\n",
       "  {'id': 'red_kharif',\n",
       "   'data_type': {'type': 'PixelType', 'precision': 'float'},\n",
       "   'crs': 'EPSG:4326',\n",
       "   'crs_transform': [1, 0, 0, 0, 1, 0]},\n",
       "  {'id': 'green_kharif',\n",
       "   'data_type': {'type': 'PixelType', 'precision': 'float'},\n",
       "   'crs': 'EPSG:4326',\n",
       "   'crs_transform': [1, 0, 0, 0, 1, 0]},\n",
       "  {'id': 'blue_kharif',\n",
       "   'data_type': {'type': 'PixelType', 'precision': 'float'},\n",
       "   'crs': 'EPSG:4326',\n",
       "   'crs_transform': [1, 0, 0, 0, 1, 0]},\n",
       "  {'id': 'NDVI_kharif',\n",
       "   'data_type': {'type': 'PixelType', 'precision': 'float'},\n",
       "   'crs': 'EPSG:4326',\n",
       "   'crs_transform': [1, 0, 0, 0, 1, 0]},\n",
       "  {'id': 'MNDWI_kharif',\n",
       "   'data_type': {'type': 'PixelType', 'precision': 'float'},\n",
       "   'crs': 'EPSG:4326',\n",
       "   'crs_transform': [1, 0, 0, 0, 1, 0]},\n",
       "  {'id': 'nir_rabi',\n",
       "   'data_type': {'type': 'PixelType', 'precision': 'float'},\n",
       "   'crs': 'EPSG:4326',\n",
       "   'crs_transform': [1, 0, 0, 0, 1, 0]},\n",
       "  {'id': 'red_rabi',\n",
       "   'data_type': {'type': 'PixelType', 'precision': 'float'},\n",
       "   'crs': 'EPSG:4326',\n",
       "   'crs_transform': [1, 0, 0, 0, 1, 0]},\n",
       "  {'id': 'green_rabi',\n",
       "   'data_type': {'type': 'PixelType', 'precision': 'float'},\n",
       "   'crs': 'EPSG:4326',\n",
       "   'crs_transform': [1, 0, 0, 0, 1, 0]},\n",
       "  {'id': 'blue_rabi',\n",
       "   'data_type': {'type': 'PixelType', 'precision': 'float'},\n",
       "   'crs': 'EPSG:4326',\n",
       "   'crs_transform': [1, 0, 0, 0, 1, 0]},\n",
       "  {'id': 'NDVI_rabi',\n",
       "   'data_type': {'type': 'PixelType', 'precision': 'float'},\n",
       "   'crs': 'EPSG:4326',\n",
       "   'crs_transform': [1, 0, 0, 0, 1, 0]},\n",
       "  {'id': 'MNDWI_rabi',\n",
       "   'data_type': {'type': 'PixelType', 'precision': 'float'},\n",
       "   'crs': 'EPSG:4326',\n",
       "   'crs_transform': [1, 0, 0, 0, 1, 0]},\n",
       "  {'id': 'nir_summer',\n",
       "   'data_type': {'type': 'PixelType', 'precision': 'float'},\n",
       "   'crs': 'EPSG:4326',\n",
       "   'crs_transform': [1, 0, 0, 0, 1, 0]},\n",
       "  {'id': 'red_summer',\n",
       "   'data_type': {'type': 'PixelType', 'precision': 'float'},\n",
       "   'crs': 'EPSG:4326',\n",
       "   'crs_transform': [1, 0, 0, 0, 1, 0]},\n",
       "  {'id': 'green_summer',\n",
       "   'data_type': {'type': 'PixelType', 'precision': 'float'},\n",
       "   'crs': 'EPSG:4326',\n",
       "   'crs_transform': [1, 0, 0, 0, 1, 0]},\n",
       "  {'id': 'blue_summer',\n",
       "   'data_type': {'type': 'PixelType', 'precision': 'float'},\n",
       "   'crs': 'EPSG:4326',\n",
       "   'crs_transform': [1, 0, 0, 0, 1, 0]},\n",
       "  {'id': 'NDVI_summer',\n",
       "   'data_type': {'type': 'PixelType', 'precision': 'float'},\n",
       "   'crs': 'EPSG:4326',\n",
       "   'crs_transform': [1, 0, 0, 0, 1, 0]},\n",
       "  {'id': 'MNDWI_summer',\n",
       "   'data_type': {'type': 'PixelType', 'precision': 'float'},\n",
       "   'crs': 'EPSG:4326',\n",
       "   'crs_transform': [1, 0, 0, 0, 1, 0]},\n",
       "  {'id': 'crops',\n",
       "   'data_type': {'type': 'PixelType', 'precision': 'int', 'min': 0, 'max': 3},\n",
       "   'crs': 'EPSG:4326',\n",
       "   'crs_transform': [1, 0, 0, 0, 1, 0]}],\n",
       " 'properties': {'monsoon_year': 2005}}"
      ]
     },
     "execution_count": 24,
     "metadata": {},
     "output_type": "execute_result"
    }
   ],
   "source": [
    "im_seasons_05.getInfo()"
   ]
  },
  {
   "cell_type": "code",
   "execution_count": 53,
   "id": "56a0a5a8-d4ff-4de2-9280-24ba0fb2cdc3",
   "metadata": {},
   "outputs": [
    {
     "data": {
      "application/vnd.jupyter.widget-view+json": {
       "model_id": "57b50f332e87415f8eede381d41883cb",
       "version_major": 2,
       "version_minor": 0
      },
      "text/plain": [
       "Map(center=[11.748174793282523, 77.4497503999458], controls=(WidgetControl(options=['position', 'transparent_b…"
      ]
     },
     "metadata": {},
     "output_type": "display_data"
    }
   ],
   "source": [
    "# gfsad30 = ee.Image(\"users/gopalpenny/GFSAD30\")\n",
    "m = geemap.Map()\n",
    "\n",
    "colors = ['#D2B48C',  '#EEC900', '#90EE90',  '#228B22']\n",
    "colors7 = [\"#F1F1F1\",\"#E8DCCA\",\"#B5C8A2\",\"#68B094\",\"#008E9A\",\"#395E96\",\"#6B0077\"]\n",
    "\n",
    "m.addLayer(im_seasons_05.clip(ee_geometry), {'bands':['crops'], 'min':0, 'max':3, 'palette': colors},'crops 2005')\n",
    "m.addLayer(im_seasons_06.clip(ee_geometry), {'bands':['crops'], 'min':0, 'max':3, 'palette': colors},'crops 2006')\n",
    "\n",
    "# m.addLayer(im_seasons_06.clip(ee_geometry), {'bands':['kharif_count'], 'min':0, 'max':6, 'palette': colors7},'kharif count 2006')\n",
    "# m.addLayer(im_seasons_06.clip(ee_geometry), {'bands':['rabi_count'], 'min':0, 'max':6, 'palette': colors7},'rabi count 2006')\n",
    "# m.addLayer(im_seasons_06.clip(ee_geometry), {'bands':['summer_count'], 'min':0, 'max':6, 'palette': colors7},'summer count 2006')\n",
    "# m.addLayer(im_seasons_15.clip(ee_geometry), {'bands':['crops'], 'min':0, 'max':3, 'palette': colors},'crops 2015')\n",
    "# m.addLayer(im_seasons_16.clip(ee_geometry), {'bands':['crops'], 'min':0, 'max':3, 'palette': colors},'crops 2016')\n",
    "# m.addLayer(im_seasons_21.clip(ee_geometry), {'bands':['crops'], 'min':0, 'max':3, 'palette': colors},'crops 2021')\n",
    "# m.centerObject(ee_geometry, 13)\n",
    "m.addLayerControl()\n",
    "m"
   ]
  },
  {
   "cell_type": "code",
   "execution_count": 14,
   "id": "91aa50e2-0538-4fde-886a-0d03d82565e9",
   "metadata": {},
   "outputs": [
    {
     "data": {
      "application/vnd.jupyter.widget-view+json": {
       "model_id": "cb87e8c6999b49b9a2db7d28c79aaf7c",
       "version_major": 2,
       "version_minor": 0
      },
      "text/plain": [
       "Map(center=[20, 0], controls=(WidgetControl(options=['position', 'transparent_bg'], widget=HBox(children=(Togg…"
      ]
     },
     "metadata": {},
     "output_type": "display_data"
    }
   ],
   "source": [
    "m16 = geemap.Map()\n",
    "\n",
    "colors = ['#D2B48C',  '#EEC900', '#90EE90',  '#228B22']\n",
    "\n",
    "# m.addLayer(gfsad30, {'min':0, 'max':2},'gfsad30')\n",
    "# m16.addLayer(im_seasons_16, {'bands':['SR_B5_kharif','SR_B4_kharif','SR_B3_kharif'], 'min':5000, 'max':30000},'oli8 kharif')\n",
    "# m16.addLayer(im_seasons_16, {'bands':['SR_B5_rabi','SR_B4_rabi','SR_B3_rabi'], 'min':5000, 'max':30000},'oli8 rabi')\n",
    "m16.addLayer(im_seasons_06_20.clip(ee_geometry), {'bands':['nir_kharif','red_kharif','green_kharif'], 'min':0, 'max':30000},'kharif 2006')\n",
    "m16.addLayer(im_seasons_06_20.clip(ee_geometry), {'bands':['nir_kharif','red_rabi','green_rabi'], 'min':0, 'max':30000},'rabi 2006')\n",
    "m16.addLayer(im_seasons_06_20.clip(ee_geometry), {'bands':['nir_kharif','red_summer','green_summer'], 'min':0, 'max':30000},'summer 2006')\n",
    "m16.addLayer(im_seasons_06_20.clip(ee_geometry), {'bands':['crops'], 'min':0, 'max':3, 'palette': colors},'crops 2006 NDVI>0.2')\n",
    "m16.addLayer(im_seasons_06_25.clip(ee_geometry), {'bands':['crops'], 'min':0, 'max':3, 'palette': colors},'crops 2006 NDVI>0.25')\n",
    "m16.addLayer(im_seasons_06_22.clip(ee_geometry), {'bands':['crops'], 'min':0, 'max':3, 'palette': colors},'crops 2006 NDVI>0.22')\n",
    "m16.addLayer(im_seasons_06_20.clip(ee_geometry), {'bands':['crops'], 'min':0, 'max':3, 'palette': colors},'crops 2006 NDVI>0.2')\n",
    "# m16.addLayer(im_seasons_06.clip(ee_geometry), {'bands':['NDVI_rabi'], 'min':0, 'max':0.5},'ndvi rabi')\n",
    "# m16.addLayer(im_seasons_06.clip(ee_geometry), {'bands':['NDVI_summer'], 'min':0, 'max':0.5},'ndvi summer')\n",
    "# m16.addLayer(im_seasons_06.clip(ee_geometry), {'bands':['NDVI_kharif'], 'min':0, 'max':0.5},'ndvi kharif')\n",
    "# m16.addLayer(im_seasons_06.clip(ee_geometry), {'bands':['NDVI_rabi'], 'min':0, 'max':0.5},'ndvi rabi')\n",
    "# m16.addLayer(im_seasons_06.clip(ee_geometry), {'bands':['NDVI_summer'], 'min':0, 'max':0.5},'ndvi summer')\n",
    "# m16.addLayer(im_seasons_06.clip(ee_geometry), {'bands':['NDVI_kharif','NDVI_rabi','NDVI_summer'], 'min':0, 'max':0.5},'ndvi all')\n",
    "\n",
    "# m16.addLayer(im_seasons_16.gt(0.25), {'bands':['NDVI_rabi'], 'min':0, 'max':0.5},'crop rabi')\n",
    "# m16.addLayer(im_seasons_15, {'bands':['crops'], 'min':0, 'max':3},'crops 2015')\n",
    "# m16.addLayer(im_seasons_16, {'bands':['crops'], 'min':0, 'max':3},'crops 2016')\n",
    "# m16.addLayer(im_seasons_16, {'bands':['crops'], 'min':0, 'max':3},'crops 2016')\n",
    "# m16.addLayer(im_seasons_16, {'bands':['MNDWI_kharif','NDVI_rabi','NDVI_summer'], 'min':0.1, 'max':0.3},'mndwi kharif')\n",
    "# m16.addLayer(im_seasons_16, {'bands':['MNDWI_kharif'], 'min':-0.2, 'max':0.1},'mndwi kharif')\n",
    "# m16.addLayer(im_seasons_16, {'bands':['MNDWI_rabi'], 'min':-0.2, 'max':0.1},'mndwi rabi')\n",
    "# m.addLayer(oli8_summer, {'bands':['NDVI'], 'min':0, 'max':0.5},'ndvi summer')\n",
    "# m.addLayer(oli8_kharif, {'bands':['MNDWI'], 'min':-0.3, 'max':0},'ndwi_median')\n",
    "# m.addLayer(ee_geometry)\n",
    "# m16.centerObject(ee_geometry, 13)\n",
    "m16.addLayerControl()\n",
    "m16"
   ]
  },
  {
   "cell_type": "code",
   "execution_count": null,
   "id": "ac2efb83",
   "metadata": {},
   "outputs": [],
   "source": []
  }
 ],
 "metadata": {
  "kernelspec": {
   "display_name": "dsgeom",
   "language": "python",
   "name": "python3"
  },
  "language_info": {
   "codemirror_mode": {
    "name": "ipython",
    "version": 3
   },
   "file_extension": ".py",
   "mimetype": "text/x-python",
   "name": "python",
   "nbconvert_exporter": "python",
   "pygments_lexer": "ipython3",
   "version": "3.9.16"
  }
 },
 "nbformat": 4,
 "nbformat_minor": 5
}
