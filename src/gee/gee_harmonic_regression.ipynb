{
 "cells": [
  {
   "cell_type": "code",
   "execution_count": 1,
   "metadata": {},
   "outputs": [],
   "source": [
    "import os\n",
    "import sys\n",
    "sys.path.insert(1, '/Users/gopal/Projects/ml/downloadGEErasters')\n",
    "import ee\n",
    "import rs\n",
    "import geemap\n",
    "import geopandas as gpd\n",
    "import numpy as np\n",
    "import pandas as pd\n",
    "ee.Initialize()"
   ]
  },
  {
   "attachments": {},
   "cell_type": "markdown",
   "metadata": {},
   "source": []
  },
  {
   "cell_type": "code",
   "execution_count": 2,
   "metadata": {},
   "outputs": [],
   "source": [
    "# This function adds a time band to the image.\n",
    "def createTimeBand(image):\n",
    "    # Scale milliseconds by a large constant.\n",
    "    return image.addBands(image.metadata('system:time_start').divide(1e18))\n",
    "\n",
    "# This function adds a constant band to the image.\n",
    "\n",
    "\n",
    "def createConstantBand(image):\n",
    "    return ee.Image(1).addBands(image)\n",
    "\n",
    "\n",
    "def addIndices(index_name_list):\n",
    "    \"\"\"Add vegetation indices to the image\n",
    "\n",
    "    Args:\n",
    "        index_name_list (list): list of indices to add to the image\n",
    "    \n",
    "    Returns:\n",
    "        function: function to add indices to image (for use with map())\n",
    "\n",
    "        The image must contain bands with literal names:\n",
    "            'nir', 'red', 'green', 'blue', 'swir1', 'swir2'\n",
    "\n",
    "        Vegetation indices may include: \n",
    "        NDVI = (nir - red) / (nir + red),\n",
    "        MNDWI = (green - swir1) / (green + swir1),\n",
    "        EVI = 2.5 * (nir - red) / (nir + 6 * red - 7 * blue + 1),\n",
    "        GCVI = (nir / green) - 1,\n",
    "        NBR1 = (nir - swir1) / (nir + swir1), # Also NDMI: https://www.usgs.gov/landsat-missions/normalized-difference-moisture-index\n",
    "        NBR2 = (nir - swir2) / (nir + swir2),\n",
    "        NDTI = (swir1 - swir2) / (swir1 + swir2), # for an example: https://www.mdpi.com/2072-4292/8/8/660\n",
    "\n",
    "        Not included as of now:\n",
    "        MODCRC = (swir1 - green) / (swir1 + green),\n",
    "        SAVI = (nir - red) / (nir + red + 0.16),\n",
    "        STI = swir1 / swir2,\n",
    "        TVI = 60 * (nir - green) - 100 * (red - green)\n",
    "\n",
    "    Examples:\n",
    "        oli8 = prep_oli8_ic(ee_geometry) \\\n",
    "            .map(addIndices(['NDVI', 'MNDWI', 'EVI', 'GCVI']))\n",
    "    \"\"\"\n",
    "    def addIndices_(image):\n",
    "        if 'NDVI' in index_name_list:\n",
    "            image = image.addBands(image.normalizedDifference(\n",
    "                ['nir', 'red']).rename('NDVI'))\n",
    "\n",
    "        if 'GCVI' in index_name_list:\n",
    "            image = image.addBands(image.normalizedDifference(\n",
    "                ['nir', 'green']).rename('GCVI'))\n",
    "\n",
    "        if 'MNDWI' in index_name_list:\n",
    "            image = image.addBands(image.normalizedDifference(\n",
    "                ['green', 'swir1']).rename('MNDWI'))\n",
    "        \n",
    "        if 'NBR1' in index_name_list: # Also NDMI: https://www.usgs.gov/landsat-missions/normalized-difference-moisture-index\n",
    "            image = image.addBands(image.normalizedDifference(\n",
    "                ['nir', 'swir1']).rename('NBR1'))\n",
    "\n",
    "        if 'NBR2' in index_name_list:\n",
    "            image = image.addBands(image.normalizedDifference(\n",
    "                ['nir', 'swir2']).rename('NBR2'))\n",
    "        \n",
    "        if 'NDTI' in index_name_list: # for an example: https://www.mdpi.com/2072-4292/8/8/660\n",
    "            image = image.addBands(image.normalizedDifference(\n",
    "                ['swir1', 'swir2']).rename('NDTI'))\n",
    "        \n",
    "        if 'EVI' in index_name_list:\n",
    "            image = image.addBands(image.expression(\n",
    "                '2.5 * (im.nir - im.red) / (im.nir + 6 * im.red - 7 * im.blue + 1)', {'im': image}).rename('EVI'))\n",
    "\n",
    "        if 'GCVI' in index_name_list:\n",
    "            image = image.addBands(image.expression(\n",
    "                '(im.nir / im.green) - 1', {'im': image}).rename('GCVI'))\n",
    "\n",
    "        return image\n",
    "\n",
    "    return addIndices_\n"
   ]
  },
  {
   "cell_type": "code",
   "execution_count": 3,
   "metadata": {},
   "outputs": [],
   "source": [
    "ee_geometry = ee.FeatureCollection('users/gopalpenny/arkavathytanks/ArkavatiSubbasins')\n",
    "ee_geometry = ee_geometry.filter(ee.Filter.eq('Subcatch', 'TG_Halli'))\n",
    "\n",
    "tm5 = rs.prep_tm5_ic(ee_geometry).filterDate('2014-06-01','2015-06-01')\n",
    "etm7 = rs.prep_etm7_ic(ee_geometry).filterDate('2014-06-01','2015-06-01')\n",
    "oli8 = rs.prep_oli8_ic(ee_geometry).filterDate('2014-06-01','2015-06-01')\n",
    "\n",
    "\n",
    "# etm7.map(createTimeBand)\n",
    "\n",
    "landsat = tm5.merge(etm7).merge(oli8) \\\n",
    "    .filter(ee.Filter.lt('CLOUD_COVER', 50)) \\\n",
    "    .map(addIndices(['GCVI']))\n",
    "\n",
    "landsat_clouds = rs.prep_landsat_clouds(landsat)\n",
    "landsat_clouds = landsat_clouds.map(lambda img: \n",
    "    img.updateMask(img.select('clouds_shadows').eq(0)))"
   ]
  },
  {
   "cell_type": "code",
   "execution_count": 4,
   "metadata": {},
   "outputs": [
    {
     "data": {
      "application/vnd.jupyter.widget-view+json": {
       "model_id": "7713151ce631474d867b47bf73bfbe05",
       "version_major": 2,
       "version_minor": 0
      },
      "text/plain": [
       "Map(center=[13.173381307415593, 77.42822974527482], controls=(WidgetControl(options=['position', 'transparent_…"
      ]
     },
     "metadata": {},
     "output_type": "display_data"
    }
   ],
   "source": [
    "m = geemap.Map()\n",
    "\n",
    "m.addLayer(landsat_clouds, {'bands': ['nir','red','green'], 'min': 0, 'max': 30000}, 'landsat fcc')\n",
    "# m.addLayer(landsat_clouds, {'bands': ['clouds_shadows'], 'min': 0, 'max': 1}, 'landsat_clouds')\n",
    "m.centerObject(ee_geometry, 9)\n",
    "m.addLayerControl()\n",
    "m"
   ]
  },
  {
   "cell_type": "code",
   "execution_count": 6,
   "metadata": {},
   "outputs": [],
   "source": [
    "def addHarmonicBands(start_month):\n",
    "    \"\"\"_summary_\n",
    "\n",
    "    Args:\n",
    "        start_month_num (int): Month that serves as a zero reference for time\n",
    "\n",
    "    Returns:\n",
    "        func: Function that adds harmonic bands to an image for regression\n",
    "\n",
    "        Returns a function can be used in ee.ImageCollection.map() to add harmonic\n",
    "        bands to each image in the collection. See Wang et al (2019). \n",
    "        \n",
    "        The harmonic bands are:\n",
    "\n",
    "        * year_frac: Fraction of a year between 0 and 1, with 0 and 1 being the first day of start month\n",
    "        * sin(3 * pi * t)\n",
    "        * cos(3 * pi * t)\n",
    "        * sin(6 * pi * t)\n",
    "        * cos(6 * pi * t)\n",
    "\n",
    "\n",
    "    Examples:\n",
    "        oli8 = ee.ImageCollection('LANDSAT/LC08/C02/T1_SR') \\\n",
    "            .map(addHarmonicBands(6))\n",
    "        oli8\n",
    "            .select(['constant', 'sin3pi', 'cos3pi', 'sin6pi', 'cos6pi', 'B5']) \\\n",
    "            .reduce(ee.Reducer.linearRegression(5, 1))\n",
    "    \"\"\"\n",
    "    # (1e3 * 60 * 60 * 24 * 365) #/ 3.1536e10 # milliseconds in year\n",
    "    start_month_num = start_month   # e.g., start_month = 6 --> start_date: 2014-0-01\n",
    "\n",
    "    def addHarmonicBandsFunction(img):\n",
    "        # get time as a fraction of a year\n",
    "\n",
    "        img_date = ee.Date(img.get('system:time_start'))\n",
    "        year = img_date.get('year')\n",
    "        prev_year = img_date.get('month').subtract(start_month_num).lt(0)\n",
    "        monsoon_year = ee.Number(year.subtract(prev_year))\n",
    "        year_start_date = ee.Date.fromYMD(monsoon_year, start_month_num, 1)\n",
    "        year_frac = img_date.millis().subtract(\n",
    "            year_start_date.millis()).divide(3.1536e10)\n",
    "        # img = img.set('year_frac', year_frac)\n",
    "        img = img.set('year_frac', year_frac)\n",
    "        year_frac = img.metadata('year_frac')\n",
    "        time3pi = year_frac.multiply(9.42477796076938)\n",
    "        time6pi = year_frac.multiply(18.84955592153876)\n",
    "\n",
    "        # Add harmonic regression bands: sin(3 * pi * t), cos(3 * pi * t),\n",
    "        # sin(6 * pi * t), cos(6 * pi * t), t = time in years since June 1\n",
    "        img = img \\\n",
    "            .addBands(year_frac) \\\n",
    "            .addBands(ee.Image(1).rename('constant')) \\\n",
    "            .addBands(time3pi.cos().rename('cos3pi')) \\\n",
    "            .addBands(time3pi.sin().rename('sin3pi')) \\\n",
    "            .addBands(time6pi.cos().rename('cos6pi')) \\\n",
    "            .addBands(time6pi.sin().rename('sin6pi'))\n",
    "        # img = img.addBands(\n",
    "        #     img.select('year_frac')\n",
    "        return img\n",
    "\n",
    "    return addHarmonicBandsFunction\n"
   ]
  },
  {
   "cell_type": "code",
   "execution_count": 7,
   "metadata": {},
   "outputs": [],
   "source": [
    "# harm_func = addRegressionBands(6)\n",
    "\n",
    "landsat_harmonic_bands = landsat.map(addHarmonicBands(6))\n",
    "\n",
    "# landsat_harmonic_bands.first().getInfo()"
   ]
  },
  {
   "cell_type": "code",
   "execution_count": 8,
   "metadata": {},
   "outputs": [],
   "source": [
    "\n",
    "independent_bands = ee.List(['constant', 'sin3pi', 'cos3pi', 'sin6pi', 'cos6pi'])\n",
    "dependent_bands = ee.List(['nir', 'swir1', 'swir2', 'GCVI'])\n",
    "\n",
    "# ee.List([independent_bands, dependent_bands]).getInfo()\n",
    "                     \n",
    "landsat_harmonics_regression = landsat_harmonic_bands \\\n",
    "    .select(independent_bands.cat(dependent_bands)) \\\n",
    "    .reduce(ee.Reducer.linearRegression(independent_bands.length(), dependent_bands.length()))\n",
    "\n",
    "\n",
    "harmonic_coeff = landsat_harmonics_regression \\\n",
    "    .select('coefficients') \\\n",
    "    .arrayFlatten(ee.List([independent_bands, dependent_bands]))\n",
    "\n",
    "# harmonic_coeff.getInfo()\n"
   ]
  },
  {
   "cell_type": "code",
   "execution_count": 9,
   "metadata": {},
   "outputs": [
    {
     "data": {
      "text/html": [
       "<div>\n",
       "<style scoped>\n",
       "    .dataframe tbody tr th:only-of-type {\n",
       "        vertical-align: middle;\n",
       "    }\n",
       "\n",
       "    .dataframe tbody tr th {\n",
       "        vertical-align: top;\n",
       "    }\n",
       "\n",
       "    .dataframe thead th {\n",
       "        text-align: right;\n",
       "    }\n",
       "</style>\n",
       "<table border=\"1\" class=\"dataframe\">\n",
       "  <thead>\n",
       "    <tr style=\"text-align: right;\">\n",
       "      <th></th>\n",
       "      <th>crop</th>\n",
       "      <th>label</th>\n",
       "      <th>count</th>\n",
       "    </tr>\n",
       "  </thead>\n",
       "  <tbody>\n",
       "    <tr>\n",
       "      <th>0</th>\n",
       "      <td>Palm</td>\n",
       "      <td>3</td>\n",
       "      <td>49</td>\n",
       "    </tr>\n",
       "    <tr>\n",
       "      <th>1</th>\n",
       "      <td>Fallow/ploughed</td>\n",
       "      <td>6</td>\n",
       "      <td>37</td>\n",
       "    </tr>\n",
       "    <tr>\n",
       "      <th>4</th>\n",
       "      <td>Legume/millet</td>\n",
       "      <td>5</td>\n",
       "      <td>327</td>\n",
       "    </tr>\n",
       "    <tr>\n",
       "      <th>15</th>\n",
       "      <td>Plantation</td>\n",
       "      <td>2</td>\n",
       "      <td>92</td>\n",
       "    </tr>\n",
       "    <tr>\n",
       "      <th>22</th>\n",
       "      <td>Vegetable</td>\n",
       "      <td>1</td>\n",
       "      <td>26</td>\n",
       "    </tr>\n",
       "    <tr>\n",
       "      <th>48</th>\n",
       "      <td>Orchard</td>\n",
       "      <td>4</td>\n",
       "      <td>32</td>\n",
       "    </tr>\n",
       "    <tr>\n",
       "      <th>197</th>\n",
       "      <td>grapes</td>\n",
       "      <td>0</td>\n",
       "      <td>19</td>\n",
       "    </tr>\n",
       "  </tbody>\n",
       "</table>\n",
       "</div>"
      ],
      "text/plain": [
       "                crop  label  count\n",
       "0               Palm      3     49\n",
       "1    Fallow/ploughed      6     37\n",
       "4      Legume/millet      5    327\n",
       "15        Plantation      2     92\n",
       "22         Vegetable      1     26\n",
       "48           Orchard      4     32\n",
       "197           grapes      0     19"
      ]
     },
     "execution_count": 9,
     "metadata": {},
     "output_type": "execute_result"
    }
   ],
   "source": [
    "# Load training points from shapefile\n",
    "train_pts_orig = gpd.read_file('../../spatial/unmod/training/training_pt_ids.shp')\n",
    "train_pts_orig = train_pts_orig[['id', 'geometry']]\n",
    "training_classes_orig = pd.read_csv('../../data/format/lulc_training_crops.csv')\n",
    "\n",
    "# Load training classes from csv, subset to classes with > 10 points\n",
    "training_classes_orig['count'] = training_classes_orig.groupby('crop').transform('count')\n",
    "training_classes = training_classes_orig[training_classes_orig['count'] > 10]\n",
    "training_classes['label'] = training_classes['crop'].rank(method='dense', ascending=False, ).astype(int) - 1\n",
    "\n",
    "# Merge training points with training classes\n",
    "train_pts = train_pts_orig.merge(training_classes, on='id', how='inner')\n",
    "\n",
    "# Save training points labels to csv\n",
    "train_pts_summary = train_pts[['crop', 'label', 'count']].drop_duplicates()\n",
    "train_pts_summary.to_csv('../../data/format/lulc_training_labels.csv', index=False)\n",
    "\n",
    "# Upload points to earth engine\n",
    "class_pts = geemap.geopandas_to_ee(train_pts)\n",
    "# class_pts.first().getInfo()\n",
    "train_pts_summary"
   ]
  },
  {
   "cell_type": "code",
   "execution_count": 10,
   "metadata": {},
   "outputs": [
    {
     "data": {
      "text/plain": [
       "ee.featurecollection.FeatureCollection"
      ]
     },
     "execution_count": 10,
     "metadata": {},
     "output_type": "execute_result"
    }
   ],
   "source": [
    "type(class_pts)"
   ]
  },
  {
   "cell_type": "code",
   "execution_count": 11,
   "metadata": {},
   "outputs": [
    {
     "data": {
      "text/plain": [
       "582"
      ]
     },
     "execution_count": 11,
     "metadata": {},
     "output_type": "execute_result"
    }
   ],
   "source": [
    "sample = harmonic_coeff.reduceRegions(class_pts, ee.Reducer.first(), 30)\n",
    "\n",
    "# sample = harmonic_coeff.reduceRegions({\n",
    "#     'collection': class_pts,\n",
    "#     'reducer': ee.Reducer.first(),\n",
    "#     'scale': 30\n",
    "# })\n",
    "sample.size().getInfo()"
   ]
  },
  {
   "cell_type": "code",
   "execution_count": 12,
   "metadata": {},
   "outputs": [],
   "source": [
    "# Get training and testing splits\n",
    "sample = sample.randomColumn()\n",
    "training_sample = sample.filter('random <= 0.8')\n",
    "testing_sample = sample.filter('random > 0.8')"
   ]
  },
  {
   "cell_type": "code",
   "execution_count": 13,
   "metadata": {},
   "outputs": [],
   "source": [
    "# Train a random forest classifier with n trees\n",
    "n = 10\n",
    "rf_classifier = ee.Classifier.smileRandomForest(n) \\\n",
    "    .train(training_sample, 'label', harmonic_coeff.bandNames())"
   ]
  },
  {
   "cell_type": "code",
   "execution_count": 126,
   "metadata": {},
   "outputs": [],
   "source": [
    "\n",
    "# # Get information about the trained classifier.\n",
    "# print('Results of trained classifier', rf_classifier.explain())\n",
    "\n",
    "# Get a confusion matrix and overall accuracy for the training sample.\n",
    "trainAccuracy = rf_classifier.confusionMatrix()\n",
    "# trainAccuracy.getInfo()\n",
    "# print('Training error matrix', trainAccuracy)\n",
    "# print('Training overall accuracy', trainAccuracy.accuracy())\n"
   ]
  },
  {
   "cell_type": "code",
   "execution_count": 14,
   "metadata": {},
   "outputs": [],
   "source": [
    "# Classify the reflectance image from the trained classifier.\n",
    "imgClassified = harmonic_coeff.classify(rf_classifier)\n"
   ]
  },
  {
   "cell_type": "code",
   "execution_count": 17,
   "metadata": {},
   "outputs": [
    {
     "data": {
      "application/vnd.jupyter.widget-view+json": {
       "model_id": "658bf6bf32d54d7f9fef90f59c321e0a",
       "version_major": 2,
       "version_minor": 0
      },
      "text/plain": [
       "Map(center=[13.192831769553079, 77.40759098509344], controls=(WidgetControl(options=['position', 'transparent_…"
      ]
     },
     "metadata": {},
     "output_type": "display_data"
    }
   ],
   "source": [
    "Map = geemap.Map()\n",
    "classVis = {\n",
    "  'min': 0,\n",
    "  'max': 6,\n",
    "  'palette': ['006400' ,'ffbb22', 'ffff4c', 'f096ff', 'fa0000', 'b4b4b4'] # , 'f0f0f0', '0064c8', '0096a0', '00cf75', 'fae6a0']\n",
    "}\n",
    "Map.centerObject(class_pts, 9)\n",
    "# Map.addLayer(img, {bands: ['B11', 'B8', 'B3'], min: 100, max: 3500}, 'img');\n",
    "# Map.addLayer(lc, classVis, 'lc');\n",
    "Map.addLayer(landsat_clouds, {'bands': ['nir','red','green'], 'min': 0, 'max': 30000}, 'landsat fcc')\n",
    "Map.addLayer(imgClassified, classVis, 'Classified')\n",
    "Map.addLayerControl()\n",
    "# Map.addLayer(roi, {color: 'white'}, 'ROI', false, 0.5);\n",
    "# Map.addLayer(trainingSample, {color: 'black'}, 'Training sample', false);\n",
    "# Map.addLayer(validationSample, {color: 'white'}, 'Validation sample', false);\n",
    "Map"
   ]
  },
  {
   "cell_type": "code",
   "execution_count": 136,
   "metadata": {},
   "outputs": [
    {
     "data": {
      "application/vnd.jupyter.widget-view+json": {
       "model_id": "41507485e20c4c249f2a6c1a106875bb",
       "version_major": 2,
       "version_minor": 0
      },
      "text/plain": [
       "Map(center=[13.192831769553079, 77.40759098509344], controls=(WidgetControl(options=['position', 'transparent_…"
      ]
     },
     "metadata": {},
     "output_type": "display_data"
    }
   ],
   "source": [
    "m1"
   ]
  },
  {
   "cell_type": "code",
   "execution_count": 130,
   "metadata": {},
   "outputs": [
    {
     "data": {
      "text/plain": [
       "{'type': 'Image',\n",
       " 'bands': [{'id': 'classification',\n",
       "   'data_type': {'type': 'PixelType',\n",
       "    'precision': 'int',\n",
       "    'min': -2147483648,\n",
       "    'max': 2147483647},\n",
       "   'crs': 'EPSG:4326',\n",
       "   'crs_transform': [1, 0, 0, 0, 1, 0]}]}"
      ]
     },
     "execution_count": 130,
     "metadata": {},
     "output_type": "execute_result"
    }
   ],
   "source": [
    "imgClassified.getInfo()"
   ]
  },
  {
   "cell_type": "code",
   "execution_count": null,
   "metadata": {},
   "outputs": [],
   "source": []
  }
 ],
 "metadata": {
  "kernelspec": {
   "display_name": "dsgeom",
   "language": "python",
   "name": "python3"
  },
  "language_info": {
   "codemirror_mode": {
    "name": "ipython",
    "version": 3
   },
   "file_extension": ".py",
   "mimetype": "text/x-python",
   "name": "python",
   "nbconvert_exporter": "python",
   "pygments_lexer": "ipython3",
   "version": "3.9.16"
  },
  "orig_nbformat": 4
 },
 "nbformat": 4,
 "nbformat_minor": 2
}
