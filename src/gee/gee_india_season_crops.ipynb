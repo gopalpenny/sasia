{
 "cells": [
  {
   "cell_type": "code",
   "execution_count": 1,
   "id": "ff21cb42-8325-4b2a-8dde-47b5dfdacd18",
   "metadata": {},
   "outputs": [],
   "source": [
    "import ee\n",
    "import geemap\n",
    "import numpy as np\n",
    "import sys\n",
    "sys.path.insert(1, '/Users/gopal/Projects/ml/downloadGEErasters')\n",
    "import rs\n",
    "from datetime import datetime, timedelta\n",
    "from dateutil.relativedelta import relativedelta\n",
    "from rs import prep_tm5_ic, prep_etm7_ic, prep_oli8_ic, prep_landsat_clouds, landsat_season_summary"
   ]
  },
  {
   "cell_type": "code",
   "execution_count": 3,
   "metadata": {},
   "outputs": [
    {
     "data": {
      "text/plain": [
       "<module 'rs' from '/Users/gopal/Projects/ml/downloadGEErasters/rs.py'>"
      ]
     },
     "execution_count": 3,
     "metadata": {},
     "output_type": "execute_result"
    }
   ],
   "source": [
    "import importlib\n",
    "importlib.reload(rs)"
   ]
  },
  {
   "cell_type": "code",
   "execution_count": 2,
   "id": "8f4be1c0-e828-4a09-b2ef-41f76e206acd",
   "metadata": {},
   "outputs": [],
   "source": [
    "ee.Initialize()"
   ]
  },
  {
   "cell_type": "code",
   "execution_count": 4,
   "id": "85766f8d-8f39-4f16-a3d8-1ebd74e63534",
   "metadata": {},
   "outputs": [],
   "source": [
    "ee_geometry_box = ee.Geometry.Polygon(\n",
    "        [[[77.42201334186198, 11.398136848502652],\n",
    "          [77.42201334186198, 10.873987098476817],\n",
    "          [78.33387857623698, 10.873987098476817],\n",
    "          [78.33387857623698, 11.398136848502652]]], None, False)"
   ]
  },
  {
   "cell_type": "code",
   "execution_count": 5,
   "id": "1d6f5cf0-7f60-4b7a-9472-236ea892445c",
   "metadata": {},
   "outputs": [],
   "source": [
    "ee_geometry = ee.FeatureCollection(\"users/gopalpenny/cauvery/Cauvery_boundary5\")\n"
   ]
  },
  {
   "cell_type": "code",
   "execution_count": 37,
   "id": "4bfbb23e-20c9-4fb5-a9af-70f4ef29efa7",
   "metadata": {},
   "outputs": [],
   "source": [
    "# Prepare and merge landsat data\n",
    "tm5 = prep_tm5_ic(ee_geometry) \n",
    "etm7 = prep_etm7_ic(ee_geometry)\n",
    "oli8 = prep_oli8_ic(ee_geometry) \n",
    "landsat = (oli8 \n",
    "    .merge(tm5) \n",
    "    .merge(etm7) #.filterDate('1990-01-01', '2003-03-31'))\n",
    "    .filterMetadata('CLOUD_COVER', 'less_than', 40))\n"
   ]
  },
  {
   "cell_type": "code",
   "execution_count": 38,
   "id": "a8ae5f3d",
   "metadata": {},
   "outputs": [],
   "source": [
    "landsat_clouds = prep_landsat_clouds(landsat)"
   ]
  },
  {
   "cell_type": "code",
   "execution_count": 40,
   "id": "61b7745a-927c-4633-943c-f7deaf6197f0",
   "metadata": {},
   "outputs": [],
   "source": [
    "def add_ndvi_band(im):\n",
    "    im = im.addBands(im.normalizedDifference(['nir','red']).rename('NDVI')) \n",
    "    im = im.addBands(im.normalizedDifference(['green','swir1']).rename('MNDWI'))\n",
    "    im = im.updateMask(im.select(['clouds_shadows']).eq(0))\n",
    "    im = im.float()\n",
    "    return im\n",
    "\n",
    "landsat_bands = landsat_clouds.map(add_ndvi_band)\n",
    "# landsat_bands.size().getInfo()\n"
   ]
  },
  {
   "cell_type": "code",
   "execution_count": 41,
   "id": "35954d8b",
   "metadata": {},
   "outputs": [],
   "source": [
    "# landsat_bands.first().bandNames().getInfo()"
   ]
  },
  {
   "cell_type": "code",
   "execution_count": 42,
   "id": "70b896d6-1479-4df3-a983-d8390459d5f2",
   "metadata": {},
   "outputs": [],
   "source": [
    "def get_im_seasons(ic, monsoon_year, ndvi_threshold = 0.2):\n",
    "    \n",
    "    print('Starting monsoon year:', monsoon_year)\n",
    "    \n",
    "    median_bands = ['swir2','swir1','nir','red','green','blue','NDVI', 'MNDWI']\n",
    "    max_bands = ['NDVI']\n",
    "    count_bands = ['NDVI']\n",
    "    # specify the dates for each of the seasons\n",
    "    kharif_start_dt = datetime.strptime(str(monsoon_year) + \"-06-01\", \"%Y-%m-%d\")\n",
    "    kharif_start_date = datetime.strftime(kharif_start_dt, \"%Y-%m-%d\")\n",
    "    rabi_start_date = datetime.strftime(kharif_start_dt + relativedelta(months = 4), \"%Y-%m-%d\")\n",
    "    summer_start_date = datetime.strftime(kharif_start_dt + relativedelta(months = 8), \"%Y-%m-%d\")\n",
    "    summer_end_date = datetime.strftime(kharif_start_dt + relativedelta(months = 12), \"%Y-%m-%d\")\n",
    "\n",
    "    # calculate the median bands for each of the seasons\n",
    "    im_kharif = landsat_season_summary(ic, kharif_start_date, rabi_start_date, 'kharif', median_bands, max_bands, count_bands)\n",
    "    im_rabi = landsat_season_summary(ic, rabi_start_date, summer_start_date, 'rabi', median_bands, max_bands, count_bands)\n",
    "    im_summer = landsat_season_summary(ic, summer_start_date, summer_end_date, 'summer', median_bands, max_bands, count_bands)\n",
    "    # im_rabi = season_median(ic, rabi_start_date, summer_start_date, 'rabi')\n",
    "    # im_summer = season_median(ic, summer_start_date, summer_end_date, 'summer')\n",
    "\n",
    "    trees = ee.Image('UMD/hansen/global_forest_change_2022_v1_10') # https://developers.google.com/earth-engine/datasets/catalog/UMD_hansen_global_forest_change_2022_v1_10\n",
    "\n",
    "    gfsad30 =  ee.Image('users/gopalpenny/GFSAD30').rename('gfsad30').eq(2) # 0 - water, 1 - noncrop, 2 - crop\n",
    "    imp_val = 2019 - monsoon_year\n",
    "    impervious = ee.Image(\"Tsinghua/FROM-GLC/GAIA/v10\").gte(imp_val).multiply(5).rename('impervious') #https://developers.google.com/earth-engine/datasets/catalog/Tsinghua_FROM-GLC_GAIA_v10#bands\n",
    "    # World settlement footprint https://developers.google.com/earth-engine/datasets/catalog/DLR_WSF_WSF2015_v1\n",
    "    # water = ee.ImageCollection('GLCF/GLS_WATER') # https://developers.google.com/earth-engine/datasets/catalog/GLCF_GLS_WATER#description\n",
    "    water = (ee.ImageCollection('JRC/GSW1_4/MonthlyHistory') # https://developers.google.com/earth-engine/datasets/catalog/JRC_GSW1_4_MonthlyHistory\n",
    "             .filterDate(kharif_start_date, summer_end_date)\n",
    "             .map(lambda im: im.select('water').eq(2).rename('water'))\n",
    "             .reduce(ee.Reducer.sum()).gt(2).multiply(4).rename('water'))\n",
    "    \n",
    "    # combine the bands from each season to a single image\n",
    "    im_seasons = im_kharif \\\n",
    "      .addBands(im_rabi) \\\n",
    "      .addBands(im_summer) \\\n",
    "      .addBands(water) \\\n",
    "      .set('monsoon_year', monsoon_year)\n",
    "    \n",
    "    im_seasons = im_seasons.addBands(\n",
    "        im_seasons.select(['NDVI_median_kharif']).gt(ndvi_threshold).rename('kharif_crops')).addBands(\n",
    "        im_seasons.select(['NDVI_median_rabi']).gt(ndvi_threshold).rename('rabi_crops')).addBands(\n",
    "        im_seasons.select(['NDVI_median_summer']).gt(ndvi_threshold).rename('summer_crops')) #.addBands(\n",
    "        # im_seasons.expression('(im.NDVI_kharif > 0.25) + (im.NDVI_rabi > 0.25) + (im.NDVI_summer > 0.25)', \n",
    "        #   {'im':im_seasons}).rename('crops'))\n",
    "    im_seasons = im_seasons.addBands(\n",
    "        im_seasons.select(['kharif_crops','rabi_crops','summer_crops']).reduce(ee.Reducer.sum()).rename('crops'))\n",
    "        \n",
    "\n",
    "    return im_seasons"
   ]
  },
  {
   "cell_type": "code",
   "execution_count": null,
   "id": "b9d3f052",
   "metadata": {},
   "outputs": [],
   "source": []
  },
  {
   "cell_type": "code",
   "execution_count": 43,
   "id": "49d12fa5-5099-47bc-bca4-952701b2a9c8",
   "metadata": {},
   "outputs": [],
   "source": [
    "# monsoon_year = 2015\n",
    "# im_seasons_05 = get_im_seasons(landsat_bands, 2005)\n",
    "# im_seasons_06 = get_im_seasons(landsat_bands, 2006)\n",
    "# im_seasons_06.bandNames().getInfo()"
   ]
  },
  {
   "cell_type": "code",
   "execution_count": 44,
   "id": "01c957db",
   "metadata": {},
   "outputs": [
    {
     "name": "stdout",
     "output_type": "stream",
     "text": [
      "Starting monsoon year: 2000\n",
      "kharif num images: 12\n",
      "rabi num images: 28\n",
      "summer num images: 34\n",
      "Starting monsoon year: 2015\n",
      "kharif num images: 42\n",
      "rabi num images: 77\n",
      "summer num images: 121\n",
      "Starting monsoon year: 2016\n",
      "kharif num images: 33\n",
      "rabi num images: 93\n",
      "summer num images: 111\n",
      "Starting monsoon year: 2017\n",
      "kharif num images: 33\n",
      "rabi num images: 100\n",
      "summer num images: 86\n",
      "Starting monsoon year: 2018\n",
      "kharif num images: 34\n",
      "rabi num images: 94\n",
      "summer num images: 116\n",
      "Starting monsoon year: 2019\n",
      "kharif num images: 36\n",
      "rabi num images: 83\n",
      "summer num images: 102\n"
     ]
    }
   ],
   "source": [
    "\n",
    "# im_seasons_05_25 = get_im_seasons(landsat_bands, 2005, 0.25)\n",
    "# im_seasons_06_25 = get_im_seasons(landsat_bands, 2006, 0.25)\n",
    "# im_seasons_07_25 = get_im_seasons(landsat_bands, 2007, 0.25)\n",
    "\n",
    "im_seasons_00_22 = get_im_seasons(landsat_bands, 2000, 0.22)\n",
    "# im_seasons_01_22 = get_im_seasons(landsat_bands, 2001, 0.22)\n",
    "# im_seasons_02_22 = get_im_seasons(landsat_bands, 2002, 0.22)\n",
    "# im_seasons_03_22 = get_im_seasons(landsat_bands, 2003, 0.22)\n",
    "# im_seasons_04_22 = get_im_seasons(landsat_bands, 2004, 0.22)\n",
    "# im_seasons_05_22 = get_im_seasons(landsat_bands, 2005, 0.22)\n",
    "# im_seasons_06_22 = get_im_seasons(landsat_bands, 2006, 0.22)\n",
    "# im_seasons_07_22 = get_im_seasons(landsat_bands, 2007, 0.22)\n",
    "# im_seasons_08_22 = get_im_seasons(landsat_bands, 2008, 0.22)\n",
    "# im_seasons_09_22 = get_im_seasons(landsat_bands, 2009, 0.22)\n",
    "# im_seasons_10_22 = get_im_seasons(landsat_bands, 2010, 0.22)\n",
    "# im_seasons_11_22 = get_im_seasons(landsat_bands, 2011, 0.22)\n",
    "# im_seasons_12_22 = get_im_seasons(landsat_bands, 2012, 0.22)\n",
    "# im_seasons_13_22 = get_im_seasons(landsat_bands, 2013, 0.22)\n",
    "# im_seasons_14_22 = get_im_seasons(landsat_bands, 2014, 0.22)\n",
    "im_seasons_15_22 = get_im_seasons(landsat_bands, 2015, 0.22)\n",
    "im_seasons_16_22 = get_im_seasons(landsat_bands, 2016, 0.22)\n",
    "im_seasons_17_22 = get_im_seasons(landsat_bands, 2017, 0.22)\n",
    "im_seasons_18_22 = get_im_seasons(landsat_bands, 2018, 0.22)\n",
    "im_seasons_19_22 = get_im_seasons(landsat_bands, 2019, 0.22)\n",
    "# im_seasons_20_22 = get_im_seasons(landsat_bands, 2020, 0.22)\n",
    "# im_seasons_21_22 = get_im_seasons(landsat_bands, 2021, 0.22)\n",
    "# im_seasons_22_22 = get_im_seasons(landsat_bands, 2022, 0.22)\n",
    "\n",
    "# im_seasons_05_20 = get_im_seasons(landsat_bands, 2005, 0.2)\n",
    "# im_seasons_06_20 = get_im_seasons(landsat_bands, 2006, 0.2)\n",
    "# im_seasons_07_20 = get_im_seasons(landsat_bands, 2007, 0.2)\n",
    "\n",
    "\n",
    "# print(im_season)\n",
    "# im_seasons_15 = get_im_seasons(landsat_bands, 2015)\n",
    "# im_seasons_16 = get_im_seasons(landsat_bands, 2016)\n",
    "# im_seasons_17 = get_im_seasons(landsat_bands, 2017)\n",
    "# im_seasons_18 = get_im_seasons(landsat_bands, 2018)\n",
    "# im_seasons_19 = get_im_`seasons(landsat_bands, 2019)\n",
    "# im_seasons_20 = get_im_seasons(landsat_bands, 2020)\n",
    "# im_seasons_21 = get_im_seasons(landsat_bands, 2021)"
   ]
  },
  {
   "cell_type": "code",
   "execution_count": 47,
   "id": "b81893ee",
   "metadata": {},
   "outputs": [
    {
     "data": {
      "text/html": [
       "<div><style>:root {\n",
       "  --font-color-primary: var(--jp-content-font-color0, rgba(0, 0, 0, 1));\n",
       "  --font-color-secondary: var(--jp-content-font-color2, rgba(0, 0, 0, 0.6));\n",
       "  --font-color-accent: rgba(123, 31, 162, 1);\n",
       "  --border-color: var(--jp-border-color2, #e0e0e0);\n",
       "  --background-color: var(--jp-layout-color0, white);\n",
       "  --background-color-row-even: var(--jp-layout-color1, white);\n",
       "  --background-color-row-odd: var(--jp-layout-color2, #eeeeee);\n",
       "}\n",
       "\n",
       "html[theme=\"dark\"],\n",
       "body[data-theme=\"dark\"],\n",
       "body.vscode-dark {\n",
       "  --font-color-primary: rgba(255, 255, 255, 1);\n",
       "  --font-color-secondary: rgba(255, 255, 255, 0.6);\n",
       "  --font-color-accent: rgb(173, 132, 190);\n",
       "  --border-color: #2e2e2e;\n",
       "  --background-color: #111111;\n",
       "  --background-color-row-even: #111111;\n",
       "  --background-color-row-odd: #313131;\n",
       "}\n",
       "\n",
       ".ee {\n",
       "  padding: 1em;\n",
       "  line-height: 1.5em;\n",
       "  min-width: 300px;\n",
       "  max-width: 1200px;\n",
       "  overflow-y: scroll;\n",
       "  max-height: 600px;\n",
       "  border: 1px solid var(--border-color);\n",
       "  font-family: monospace;\n",
       "}\n",
       "\n",
       ".ee li {\n",
       "  list-style-type: none;\n",
       "}\n",
       "\n",
       ".ee ul {\n",
       "  padding-left: 1.5em !important;\n",
       "  margin: 0;\n",
       "}\n",
       "\n",
       ".ee > ul {\n",
       "  padding-left: 0 !important;\n",
       "}\n",
       "\n",
       ".ee-open,\n",
       ".ee-shut {\n",
       "  color: var(--font-color-secondary);\n",
       "  cursor: pointer;\n",
       "  margin: 0;\n",
       "}\n",
       "\n",
       ".ee-open:hover,\n",
       ".ee-shut:hover {\n",
       "  color: var(--font-color-primary);\n",
       "}\n",
       "\n",
       ".ee-k {\n",
       "  color: var(--font-color-accent);\n",
       "  margin-right: 6px;\n",
       "}\n",
       "\n",
       ".ee-v {\n",
       "  color: var(--font-color-primary);\n",
       "}\n",
       "\n",
       ".ee-toggle {\n",
       "  display: none;\n",
       "}\n",
       "\n",
       ".ee-shut + ul {\n",
       "  display: none;\n",
       "}\n",
       "\n",
       ".ee-open + ul {\n",
       "  display: block;\n",
       "}\n",
       "\n",
       ".ee-shut::before {\n",
       "  display: inline-block;\n",
       "  content: \"▼\";\n",
       "  margin-right: 6px;\n",
       "  transform: rotate(-90deg);\n",
       "  transition: transform 0.2s;\n",
       "}\n",
       "\n",
       ".ee-open::before {\n",
       "  transform: rotate(0deg);\n",
       "  display: inline-block;\n",
       "  content: \"▼\";\n",
       "  margin-right: 6px;\n",
       "  transition: transform 0.2s;\n",
       "}\n",
       "</style><div class='ee'><ul><li><label class='ee-shut'>Image (28 bands)<input type='checkbox' class='ee-toggle'></label><ul><li><span class='ee-k'>type:</span><span class='ee-v'>Image</span></li><li><label class='ee-shut'>bands: List (28 elements)<input type='checkbox' class='ee-toggle'></label><ul><li><label class='ee-shut'>0: \"swir2_median_kharif\", float, EPSG:4326<input type='checkbox' class='ee-toggle'></label><ul><li><span class='ee-k'>id:</span><span class='ee-v'>swir2_median_kharif</span></li><li><span class='ee-k'>crs:</span><span class='ee-v'>EPSG:4326</span></li><li><label class='ee-shut'>crs_transform: [1, 0, 0, 0, 1, 0]<input type='checkbox' class='ee-toggle'></label><ul><li><span class='ee-k'>0:</span><span class='ee-v'>1</span></li><li><span class='ee-k'>1:</span><span class='ee-v'>0</span></li><li><span class='ee-k'>2:</span><span class='ee-v'>0</span></li><li><span class='ee-k'>3:</span><span class='ee-v'>0</span></li><li><span class='ee-k'>4:</span><span class='ee-v'>1</span></li><li><span class='ee-k'>5:</span><span class='ee-v'>0</span></li></ul></li><li><label class='ee-shut'>data_type: float<input type='checkbox' class='ee-toggle'></label><ul><li><span class='ee-k'>type:</span><span class='ee-v'>PixelType</span></li><li><span class='ee-k'>precision:</span><span class='ee-v'>float</span></li></ul></li></ul></li><li><label class='ee-shut'>1: \"swir1_median_kharif\", float, EPSG:4326<input type='checkbox' class='ee-toggle'></label><ul><li><span class='ee-k'>id:</span><span class='ee-v'>swir1_median_kharif</span></li><li><span class='ee-k'>crs:</span><span class='ee-v'>EPSG:4326</span></li><li><label class='ee-shut'>crs_transform: [1, 0, 0, 0, 1, 0]<input type='checkbox' class='ee-toggle'></label><ul><li><span class='ee-k'>0:</span><span class='ee-v'>1</span></li><li><span class='ee-k'>1:</span><span class='ee-v'>0</span></li><li><span class='ee-k'>2:</span><span class='ee-v'>0</span></li><li><span class='ee-k'>3:</span><span class='ee-v'>0</span></li><li><span class='ee-k'>4:</span><span class='ee-v'>1</span></li><li><span class='ee-k'>5:</span><span class='ee-v'>0</span></li></ul></li><li><label class='ee-shut'>data_type: float<input type='checkbox' class='ee-toggle'></label><ul><li><span class='ee-k'>type:</span><span class='ee-v'>PixelType</span></li><li><span class='ee-k'>precision:</span><span class='ee-v'>float</span></li></ul></li></ul></li><li><label class='ee-shut'>2: \"nir_median_kharif\", float, EPSG:4326<input type='checkbox' class='ee-toggle'></label><ul><li><span class='ee-k'>id:</span><span class='ee-v'>nir_median_kharif</span></li><li><span class='ee-k'>crs:</span><span class='ee-v'>EPSG:4326</span></li><li><label class='ee-shut'>crs_transform: [1, 0, 0, 0, 1, 0]<input type='checkbox' class='ee-toggle'></label><ul><li><span class='ee-k'>0:</span><span class='ee-v'>1</span></li><li><span class='ee-k'>1:</span><span class='ee-v'>0</span></li><li><span class='ee-k'>2:</span><span class='ee-v'>0</span></li><li><span class='ee-k'>3:</span><span class='ee-v'>0</span></li><li><span class='ee-k'>4:</span><span class='ee-v'>1</span></li><li><span class='ee-k'>5:</span><span class='ee-v'>0</span></li></ul></li><li><label class='ee-shut'>data_type: float<input type='checkbox' class='ee-toggle'></label><ul><li><span class='ee-k'>type:</span><span class='ee-v'>PixelType</span></li><li><span class='ee-k'>precision:</span><span class='ee-v'>float</span></li></ul></li></ul></li><li><label class='ee-shut'>3: \"red_median_kharif\", float, EPSG:4326<input type='checkbox' class='ee-toggle'></label><ul><li><span class='ee-k'>id:</span><span class='ee-v'>red_median_kharif</span></li><li><span class='ee-k'>crs:</span><span class='ee-v'>EPSG:4326</span></li><li><label class='ee-shut'>crs_transform: [1, 0, 0, 0, 1, 0]<input type='checkbox' class='ee-toggle'></label><ul><li><span class='ee-k'>0:</span><span class='ee-v'>1</span></li><li><span class='ee-k'>1:</span><span class='ee-v'>0</span></li><li><span class='ee-k'>2:</span><span class='ee-v'>0</span></li><li><span class='ee-k'>3:</span><span class='ee-v'>0</span></li><li><span class='ee-k'>4:</span><span class='ee-v'>1</span></li><li><span class='ee-k'>5:</span><span class='ee-v'>0</span></li></ul></li><li><label class='ee-shut'>data_type: float<input type='checkbox' class='ee-toggle'></label><ul><li><span class='ee-k'>type:</span><span class='ee-v'>PixelType</span></li><li><span class='ee-k'>precision:</span><span class='ee-v'>float</span></li></ul></li></ul></li><li><label class='ee-shut'>4: \"green_median_kharif\", float, EPSG:4326<input type='checkbox' class='ee-toggle'></label><ul><li><span class='ee-k'>id:</span><span class='ee-v'>green_median_kharif</span></li><li><span class='ee-k'>crs:</span><span class='ee-v'>EPSG:4326</span></li><li><label class='ee-shut'>crs_transform: [1, 0, 0, 0, 1, 0]<input type='checkbox' class='ee-toggle'></label><ul><li><span class='ee-k'>0:</span><span class='ee-v'>1</span></li><li><span class='ee-k'>1:</span><span class='ee-v'>0</span></li><li><span class='ee-k'>2:</span><span class='ee-v'>0</span></li><li><span class='ee-k'>3:</span><span class='ee-v'>0</span></li><li><span class='ee-k'>4:</span><span class='ee-v'>1</span></li><li><span class='ee-k'>5:</span><span class='ee-v'>0</span></li></ul></li><li><label class='ee-shut'>data_type: float<input type='checkbox' class='ee-toggle'></label><ul><li><span class='ee-k'>type:</span><span class='ee-v'>PixelType</span></li><li><span class='ee-k'>precision:</span><span class='ee-v'>float</span></li></ul></li></ul></li><li><label class='ee-shut'>5: \"blue_median_kharif\", float, EPSG:4326<input type='checkbox' class='ee-toggle'></label><ul><li><span class='ee-k'>id:</span><span class='ee-v'>blue_median_kharif</span></li><li><span class='ee-k'>crs:</span><span class='ee-v'>EPSG:4326</span></li><li><label class='ee-shut'>crs_transform: [1, 0, 0, 0, 1, 0]<input type='checkbox' class='ee-toggle'></label><ul><li><span class='ee-k'>0:</span><span class='ee-v'>1</span></li><li><span class='ee-k'>1:</span><span class='ee-v'>0</span></li><li><span class='ee-k'>2:</span><span class='ee-v'>0</span></li><li><span class='ee-k'>3:</span><span class='ee-v'>0</span></li><li><span class='ee-k'>4:</span><span class='ee-v'>1</span></li><li><span class='ee-k'>5:</span><span class='ee-v'>0</span></li></ul></li><li><label class='ee-shut'>data_type: float<input type='checkbox' class='ee-toggle'></label><ul><li><span class='ee-k'>type:</span><span class='ee-v'>PixelType</span></li><li><span class='ee-k'>precision:</span><span class='ee-v'>float</span></li></ul></li></ul></li><li><label class='ee-shut'>6: \"NDVI_median_kharif\", float, EPSG:4326<input type='checkbox' class='ee-toggle'></label><ul><li><span class='ee-k'>id:</span><span class='ee-v'>NDVI_median_kharif</span></li><li><span class='ee-k'>crs:</span><span class='ee-v'>EPSG:4326</span></li><li><label class='ee-shut'>crs_transform: [1, 0, 0, 0, 1, 0]<input type='checkbox' class='ee-toggle'></label><ul><li><span class='ee-k'>0:</span><span class='ee-v'>1</span></li><li><span class='ee-k'>1:</span><span class='ee-v'>0</span></li><li><span class='ee-k'>2:</span><span class='ee-v'>0</span></li><li><span class='ee-k'>3:</span><span class='ee-v'>0</span></li><li><span class='ee-k'>4:</span><span class='ee-v'>1</span></li><li><span class='ee-k'>5:</span><span class='ee-v'>0</span></li></ul></li><li><label class='ee-shut'>data_type: float<input type='checkbox' class='ee-toggle'></label><ul><li><span class='ee-k'>type:</span><span class='ee-v'>PixelType</span></li><li><span class='ee-k'>precision:</span><span class='ee-v'>float</span></li></ul></li></ul></li><li><label class='ee-shut'>7: \"MNDWI_median_kharif\", float, EPSG:4326<input type='checkbox' class='ee-toggle'></label><ul><li><span class='ee-k'>id:</span><span class='ee-v'>MNDWI_median_kharif</span></li><li><span class='ee-k'>crs:</span><span class='ee-v'>EPSG:4326</span></li><li><label class='ee-shut'>crs_transform: [1, 0, 0, 0, 1, 0]<input type='checkbox' class='ee-toggle'></label><ul><li><span class='ee-k'>0:</span><span class='ee-v'>1</span></li><li><span class='ee-k'>1:</span><span class='ee-v'>0</span></li><li><span class='ee-k'>2:</span><span class='ee-v'>0</span></li><li><span class='ee-k'>3:</span><span class='ee-v'>0</span></li><li><span class='ee-k'>4:</span><span class='ee-v'>1</span></li><li><span class='ee-k'>5:</span><span class='ee-v'>0</span></li></ul></li><li><label class='ee-shut'>data_type: float<input type='checkbox' class='ee-toggle'></label><ul><li><span class='ee-k'>type:</span><span class='ee-v'>PixelType</span></li><li><span class='ee-k'>precision:</span><span class='ee-v'>float</span></li></ul></li></ul></li><li><label class='ee-shut'>8: \"swir2_median_rabi\", float, EPSG:4326<input type='checkbox' class='ee-toggle'></label><ul><li><span class='ee-k'>id:</span><span class='ee-v'>swir2_median_rabi</span></li><li><span class='ee-k'>crs:</span><span class='ee-v'>EPSG:4326</span></li><li><label class='ee-shut'>crs_transform: [1, 0, 0, 0, 1, 0]<input type='checkbox' class='ee-toggle'></label><ul><li><span class='ee-k'>0:</span><span class='ee-v'>1</span></li><li><span class='ee-k'>1:</span><span class='ee-v'>0</span></li><li><span class='ee-k'>2:</span><span class='ee-v'>0</span></li><li><span class='ee-k'>3:</span><span class='ee-v'>0</span></li><li><span class='ee-k'>4:</span><span class='ee-v'>1</span></li><li><span class='ee-k'>5:</span><span class='ee-v'>0</span></li></ul></li><li><label class='ee-shut'>data_type: float<input type='checkbox' class='ee-toggle'></label><ul><li><span class='ee-k'>type:</span><span class='ee-v'>PixelType</span></li><li><span class='ee-k'>precision:</span><span class='ee-v'>float</span></li></ul></li></ul></li><li><label class='ee-shut'>9: \"swir1_median_rabi\", float, EPSG:4326<input type='checkbox' class='ee-toggle'></label><ul><li><span class='ee-k'>id:</span><span class='ee-v'>swir1_median_rabi</span></li><li><span class='ee-k'>crs:</span><span class='ee-v'>EPSG:4326</span></li><li><label class='ee-shut'>crs_transform: [1, 0, 0, 0, 1, 0]<input type='checkbox' class='ee-toggle'></label><ul><li><span class='ee-k'>0:</span><span class='ee-v'>1</span></li><li><span class='ee-k'>1:</span><span class='ee-v'>0</span></li><li><span class='ee-k'>2:</span><span class='ee-v'>0</span></li><li><span class='ee-k'>3:</span><span class='ee-v'>0</span></li><li><span class='ee-k'>4:</span><span class='ee-v'>1</span></li><li><span class='ee-k'>5:</span><span class='ee-v'>0</span></li></ul></li><li><label class='ee-shut'>data_type: float<input type='checkbox' class='ee-toggle'></label><ul><li><span class='ee-k'>type:</span><span class='ee-v'>PixelType</span></li><li><span class='ee-k'>precision:</span><span class='ee-v'>float</span></li></ul></li></ul></li><li><label class='ee-shut'>10: \"nir_median_rabi\", float, EPSG:4326<input type='checkbox' class='ee-toggle'></label><ul><li><span class='ee-k'>id:</span><span class='ee-v'>nir_median_rabi</span></li><li><span class='ee-k'>crs:</span><span class='ee-v'>EPSG:4326</span></li><li><label class='ee-shut'>crs_transform: [1, 0, 0, 0, 1, 0]<input type='checkbox' class='ee-toggle'></label><ul><li><span class='ee-k'>0:</span><span class='ee-v'>1</span></li><li><span class='ee-k'>1:</span><span class='ee-v'>0</span></li><li><span class='ee-k'>2:</span><span class='ee-v'>0</span></li><li><span class='ee-k'>3:</span><span class='ee-v'>0</span></li><li><span class='ee-k'>4:</span><span class='ee-v'>1</span></li><li><span class='ee-k'>5:</span><span class='ee-v'>0</span></li></ul></li><li><label class='ee-shut'>data_type: float<input type='checkbox' class='ee-toggle'></label><ul><li><span class='ee-k'>type:</span><span class='ee-v'>PixelType</span></li><li><span class='ee-k'>precision:</span><span class='ee-v'>float</span></li></ul></li></ul></li><li><label class='ee-shut'>11: \"red_median_rabi\", float, EPSG:4326<input type='checkbox' class='ee-toggle'></label><ul><li><span class='ee-k'>id:</span><span class='ee-v'>red_median_rabi</span></li><li><span class='ee-k'>crs:</span><span class='ee-v'>EPSG:4326</span></li><li><label class='ee-shut'>crs_transform: [1, 0, 0, 0, 1, 0]<input type='checkbox' class='ee-toggle'></label><ul><li><span class='ee-k'>0:</span><span class='ee-v'>1</span></li><li><span class='ee-k'>1:</span><span class='ee-v'>0</span></li><li><span class='ee-k'>2:</span><span class='ee-v'>0</span></li><li><span class='ee-k'>3:</span><span class='ee-v'>0</span></li><li><span class='ee-k'>4:</span><span class='ee-v'>1</span></li><li><span class='ee-k'>5:</span><span class='ee-v'>0</span></li></ul></li><li><label class='ee-shut'>data_type: float<input type='checkbox' class='ee-toggle'></label><ul><li><span class='ee-k'>type:</span><span class='ee-v'>PixelType</span></li><li><span class='ee-k'>precision:</span><span class='ee-v'>float</span></li></ul></li></ul></li><li><label class='ee-shut'>12: \"green_median_rabi\", float, EPSG:4326<input type='checkbox' class='ee-toggle'></label><ul><li><span class='ee-k'>id:</span><span class='ee-v'>green_median_rabi</span></li><li><span class='ee-k'>crs:</span><span class='ee-v'>EPSG:4326</span></li><li><label class='ee-shut'>crs_transform: [1, 0, 0, 0, 1, 0]<input type='checkbox' class='ee-toggle'></label><ul><li><span class='ee-k'>0:</span><span class='ee-v'>1</span></li><li><span class='ee-k'>1:</span><span class='ee-v'>0</span></li><li><span class='ee-k'>2:</span><span class='ee-v'>0</span></li><li><span class='ee-k'>3:</span><span class='ee-v'>0</span></li><li><span class='ee-k'>4:</span><span class='ee-v'>1</span></li><li><span class='ee-k'>5:</span><span class='ee-v'>0</span></li></ul></li><li><label class='ee-shut'>data_type: float<input type='checkbox' class='ee-toggle'></label><ul><li><span class='ee-k'>type:</span><span class='ee-v'>PixelType</span></li><li><span class='ee-k'>precision:</span><span class='ee-v'>float</span></li></ul></li></ul></li><li><label class='ee-shut'>13: \"blue_median_rabi\", float, EPSG:4326<input type='checkbox' class='ee-toggle'></label><ul><li><span class='ee-k'>id:</span><span class='ee-v'>blue_median_rabi</span></li><li><span class='ee-k'>crs:</span><span class='ee-v'>EPSG:4326</span></li><li><label class='ee-shut'>crs_transform: [1, 0, 0, 0, 1, 0]<input type='checkbox' class='ee-toggle'></label><ul><li><span class='ee-k'>0:</span><span class='ee-v'>1</span></li><li><span class='ee-k'>1:</span><span class='ee-v'>0</span></li><li><span class='ee-k'>2:</span><span class='ee-v'>0</span></li><li><span class='ee-k'>3:</span><span class='ee-v'>0</span></li><li><span class='ee-k'>4:</span><span class='ee-v'>1</span></li><li><span class='ee-k'>5:</span><span class='ee-v'>0</span></li></ul></li><li><label class='ee-shut'>data_type: float<input type='checkbox' class='ee-toggle'></label><ul><li><span class='ee-k'>type:</span><span class='ee-v'>PixelType</span></li><li><span class='ee-k'>precision:</span><span class='ee-v'>float</span></li></ul></li></ul></li><li><label class='ee-shut'>14: \"NDVI_median_rabi\", float, EPSG:4326<input type='checkbox' class='ee-toggle'></label><ul><li><span class='ee-k'>id:</span><span class='ee-v'>NDVI_median_rabi</span></li><li><span class='ee-k'>crs:</span><span class='ee-v'>EPSG:4326</span></li><li><label class='ee-shut'>crs_transform: [1, 0, 0, 0, 1, 0]<input type='checkbox' class='ee-toggle'></label><ul><li><span class='ee-k'>0:</span><span class='ee-v'>1</span></li><li><span class='ee-k'>1:</span><span class='ee-v'>0</span></li><li><span class='ee-k'>2:</span><span class='ee-v'>0</span></li><li><span class='ee-k'>3:</span><span class='ee-v'>0</span></li><li><span class='ee-k'>4:</span><span class='ee-v'>1</span></li><li><span class='ee-k'>5:</span><span class='ee-v'>0</span></li></ul></li><li><label class='ee-shut'>data_type: float<input type='checkbox' class='ee-toggle'></label><ul><li><span class='ee-k'>type:</span><span class='ee-v'>PixelType</span></li><li><span class='ee-k'>precision:</span><span class='ee-v'>float</span></li></ul></li></ul></li><li><label class='ee-shut'>15: \"MNDWI_median_rabi\", float, EPSG:4326<input type='checkbox' class='ee-toggle'></label><ul><li><span class='ee-k'>id:</span><span class='ee-v'>MNDWI_median_rabi</span></li><li><span class='ee-k'>crs:</span><span class='ee-v'>EPSG:4326</span></li><li><label class='ee-shut'>crs_transform: [1, 0, 0, 0, 1, 0]<input type='checkbox' class='ee-toggle'></label><ul><li><span class='ee-k'>0:</span><span class='ee-v'>1</span></li><li><span class='ee-k'>1:</span><span class='ee-v'>0</span></li><li><span class='ee-k'>2:</span><span class='ee-v'>0</span></li><li><span class='ee-k'>3:</span><span class='ee-v'>0</span></li><li><span class='ee-k'>4:</span><span class='ee-v'>1</span></li><li><span class='ee-k'>5:</span><span class='ee-v'>0</span></li></ul></li><li><label class='ee-shut'>data_type: float<input type='checkbox' class='ee-toggle'></label><ul><li><span class='ee-k'>type:</span><span class='ee-v'>PixelType</span></li><li><span class='ee-k'>precision:</span><span class='ee-v'>float</span></li></ul></li></ul></li><li><label class='ee-shut'>16: \"swir2_median_summer\", float, EPSG:4326<input type='checkbox' class='ee-toggle'></label><ul><li><span class='ee-k'>id:</span><span class='ee-v'>swir2_median_summer</span></li><li><span class='ee-k'>crs:</span><span class='ee-v'>EPSG:4326</span></li><li><label class='ee-shut'>crs_transform: [1, 0, 0, 0, 1, 0]<input type='checkbox' class='ee-toggle'></label><ul><li><span class='ee-k'>0:</span><span class='ee-v'>1</span></li><li><span class='ee-k'>1:</span><span class='ee-v'>0</span></li><li><span class='ee-k'>2:</span><span class='ee-v'>0</span></li><li><span class='ee-k'>3:</span><span class='ee-v'>0</span></li><li><span class='ee-k'>4:</span><span class='ee-v'>1</span></li><li><span class='ee-k'>5:</span><span class='ee-v'>0</span></li></ul></li><li><label class='ee-shut'>data_type: float<input type='checkbox' class='ee-toggle'></label><ul><li><span class='ee-k'>type:</span><span class='ee-v'>PixelType</span></li><li><span class='ee-k'>precision:</span><span class='ee-v'>float</span></li></ul></li></ul></li><li><label class='ee-shut'>17: \"swir1_median_summer\", float, EPSG:4326<input type='checkbox' class='ee-toggle'></label><ul><li><span class='ee-k'>id:</span><span class='ee-v'>swir1_median_summer</span></li><li><span class='ee-k'>crs:</span><span class='ee-v'>EPSG:4326</span></li><li><label class='ee-shut'>crs_transform: [1, 0, 0, 0, 1, 0]<input type='checkbox' class='ee-toggle'></label><ul><li><span class='ee-k'>0:</span><span class='ee-v'>1</span></li><li><span class='ee-k'>1:</span><span class='ee-v'>0</span></li><li><span class='ee-k'>2:</span><span class='ee-v'>0</span></li><li><span class='ee-k'>3:</span><span class='ee-v'>0</span></li><li><span class='ee-k'>4:</span><span class='ee-v'>1</span></li><li><span class='ee-k'>5:</span><span class='ee-v'>0</span></li></ul></li><li><label class='ee-shut'>data_type: float<input type='checkbox' class='ee-toggle'></label><ul><li><span class='ee-k'>type:</span><span class='ee-v'>PixelType</span></li><li><span class='ee-k'>precision:</span><span class='ee-v'>float</span></li></ul></li></ul></li><li><label class='ee-shut'>18: \"nir_median_summer\", float, EPSG:4326<input type='checkbox' class='ee-toggle'></label><ul><li><span class='ee-k'>id:</span><span class='ee-v'>nir_median_summer</span></li><li><span class='ee-k'>crs:</span><span class='ee-v'>EPSG:4326</span></li><li><label class='ee-shut'>crs_transform: [1, 0, 0, 0, 1, 0]<input type='checkbox' class='ee-toggle'></label><ul><li><span class='ee-k'>0:</span><span class='ee-v'>1</span></li><li><span class='ee-k'>1:</span><span class='ee-v'>0</span></li><li><span class='ee-k'>2:</span><span class='ee-v'>0</span></li><li><span class='ee-k'>3:</span><span class='ee-v'>0</span></li><li><span class='ee-k'>4:</span><span class='ee-v'>1</span></li><li><span class='ee-k'>5:</span><span class='ee-v'>0</span></li></ul></li><li><label class='ee-shut'>data_type: float<input type='checkbox' class='ee-toggle'></label><ul><li><span class='ee-k'>type:</span><span class='ee-v'>PixelType</span></li><li><span class='ee-k'>precision:</span><span class='ee-v'>float</span></li></ul></li></ul></li><li><label class='ee-shut'>19: \"red_median_summer\", float, EPSG:4326<input type='checkbox' class='ee-toggle'></label><ul><li><span class='ee-k'>id:</span><span class='ee-v'>red_median_summer</span></li><li><span class='ee-k'>crs:</span><span class='ee-v'>EPSG:4326</span></li><li><label class='ee-shut'>crs_transform: [1, 0, 0, 0, 1, 0]<input type='checkbox' class='ee-toggle'></label><ul><li><span class='ee-k'>0:</span><span class='ee-v'>1</span></li><li><span class='ee-k'>1:</span><span class='ee-v'>0</span></li><li><span class='ee-k'>2:</span><span class='ee-v'>0</span></li><li><span class='ee-k'>3:</span><span class='ee-v'>0</span></li><li><span class='ee-k'>4:</span><span class='ee-v'>1</span></li><li><span class='ee-k'>5:</span><span class='ee-v'>0</span></li></ul></li><li><label class='ee-shut'>data_type: float<input type='checkbox' class='ee-toggle'></label><ul><li><span class='ee-k'>type:</span><span class='ee-v'>PixelType</span></li><li><span class='ee-k'>precision:</span><span class='ee-v'>float</span></li></ul></li></ul></li><li><label class='ee-shut'>20: \"green_median_summer\", float, EPSG:4326<input type='checkbox' class='ee-toggle'></label><ul><li><span class='ee-k'>id:</span><span class='ee-v'>green_median_summer</span></li><li><span class='ee-k'>crs:</span><span class='ee-v'>EPSG:4326</span></li><li><label class='ee-shut'>crs_transform: [1, 0, 0, 0, 1, 0]<input type='checkbox' class='ee-toggle'></label><ul><li><span class='ee-k'>0:</span><span class='ee-v'>1</span></li><li><span class='ee-k'>1:</span><span class='ee-v'>0</span></li><li><span class='ee-k'>2:</span><span class='ee-v'>0</span></li><li><span class='ee-k'>3:</span><span class='ee-v'>0</span></li><li><span class='ee-k'>4:</span><span class='ee-v'>1</span></li><li><span class='ee-k'>5:</span><span class='ee-v'>0</span></li></ul></li><li><label class='ee-shut'>data_type: float<input type='checkbox' class='ee-toggle'></label><ul><li><span class='ee-k'>type:</span><span class='ee-v'>PixelType</span></li><li><span class='ee-k'>precision:</span><span class='ee-v'>float</span></li></ul></li></ul></li><li><label class='ee-shut'>21: \"blue_median_summer\", float, EPSG:4326<input type='checkbox' class='ee-toggle'></label><ul><li><span class='ee-k'>id:</span><span class='ee-v'>blue_median_summer</span></li><li><span class='ee-k'>crs:</span><span class='ee-v'>EPSG:4326</span></li><li><label class='ee-shut'>crs_transform: [1, 0, 0, 0, 1, 0]<input type='checkbox' class='ee-toggle'></label><ul><li><span class='ee-k'>0:</span><span class='ee-v'>1</span></li><li><span class='ee-k'>1:</span><span class='ee-v'>0</span></li><li><span class='ee-k'>2:</span><span class='ee-v'>0</span></li><li><span class='ee-k'>3:</span><span class='ee-v'>0</span></li><li><span class='ee-k'>4:</span><span class='ee-v'>1</span></li><li><span class='ee-k'>5:</span><span class='ee-v'>0</span></li></ul></li><li><label class='ee-shut'>data_type: float<input type='checkbox' class='ee-toggle'></label><ul><li><span class='ee-k'>type:</span><span class='ee-v'>PixelType</span></li><li><span class='ee-k'>precision:</span><span class='ee-v'>float</span></li></ul></li></ul></li><li><label class='ee-shut'>22: \"NDVI_median_summer\", float, EPSG:4326<input type='checkbox' class='ee-toggle'></label><ul><li><span class='ee-k'>id:</span><span class='ee-v'>NDVI_median_summer</span></li><li><span class='ee-k'>crs:</span><span class='ee-v'>EPSG:4326</span></li><li><label class='ee-shut'>crs_transform: [1, 0, 0, 0, 1, 0]<input type='checkbox' class='ee-toggle'></label><ul><li><span class='ee-k'>0:</span><span class='ee-v'>1</span></li><li><span class='ee-k'>1:</span><span class='ee-v'>0</span></li><li><span class='ee-k'>2:</span><span class='ee-v'>0</span></li><li><span class='ee-k'>3:</span><span class='ee-v'>0</span></li><li><span class='ee-k'>4:</span><span class='ee-v'>1</span></li><li><span class='ee-k'>5:</span><span class='ee-v'>0</span></li></ul></li><li><label class='ee-shut'>data_type: float<input type='checkbox' class='ee-toggle'></label><ul><li><span class='ee-k'>type:</span><span class='ee-v'>PixelType</span></li><li><span class='ee-k'>precision:</span><span class='ee-v'>float</span></li></ul></li></ul></li><li><label class='ee-shut'>23: \"MNDWI_median_summer\", float, EPSG:4326<input type='checkbox' class='ee-toggle'></label><ul><li><span class='ee-k'>id:</span><span class='ee-v'>MNDWI_median_summer</span></li><li><span class='ee-k'>crs:</span><span class='ee-v'>EPSG:4326</span></li><li><label class='ee-shut'>crs_transform: [1, 0, 0, 0, 1, 0]<input type='checkbox' class='ee-toggle'></label><ul><li><span class='ee-k'>0:</span><span class='ee-v'>1</span></li><li><span class='ee-k'>1:</span><span class='ee-v'>0</span></li><li><span class='ee-k'>2:</span><span class='ee-v'>0</span></li><li><span class='ee-k'>3:</span><span class='ee-v'>0</span></li><li><span class='ee-k'>4:</span><span class='ee-v'>1</span></li><li><span class='ee-k'>5:</span><span class='ee-v'>0</span></li></ul></li><li><label class='ee-shut'>data_type: float<input type='checkbox' class='ee-toggle'></label><ul><li><span class='ee-k'>type:</span><span class='ee-v'>PixelType</span></li><li><span class='ee-k'>precision:</span><span class='ee-v'>float</span></li></ul></li></ul></li><li><label class='ee-shut'>24: \"kharif_crops\", int ∈ [0, 1], EPSG:4326<input type='checkbox' class='ee-toggle'></label><ul><li><span class='ee-k'>id:</span><span class='ee-v'>kharif_crops</span></li><li><span class='ee-k'>crs:</span><span class='ee-v'>EPSG:4326</span></li><li><label class='ee-shut'>crs_transform: [1, 0, 0, 0, 1, 0]<input type='checkbox' class='ee-toggle'></label><ul><li><span class='ee-k'>0:</span><span class='ee-v'>1</span></li><li><span class='ee-k'>1:</span><span class='ee-v'>0</span></li><li><span class='ee-k'>2:</span><span class='ee-v'>0</span></li><li><span class='ee-k'>3:</span><span class='ee-v'>0</span></li><li><span class='ee-k'>4:</span><span class='ee-v'>1</span></li><li><span class='ee-k'>5:</span><span class='ee-v'>0</span></li></ul></li><li><label class='ee-shut'>data_type: int ∈ [0, 1]<input type='checkbox' class='ee-toggle'></label><ul><li><span class='ee-k'>type:</span><span class='ee-v'>PixelType</span></li><li><span class='ee-k'>max:</span><span class='ee-v'>1</span></li><li><span class='ee-k'>min:</span><span class='ee-v'>0</span></li><li><span class='ee-k'>precision:</span><span class='ee-v'>int</span></li></ul></li></ul></li><li><label class='ee-shut'>25: \"rabi_crops\", int ∈ [0, 1], EPSG:4326<input type='checkbox' class='ee-toggle'></label><ul><li><span class='ee-k'>id:</span><span class='ee-v'>rabi_crops</span></li><li><span class='ee-k'>crs:</span><span class='ee-v'>EPSG:4326</span></li><li><label class='ee-shut'>crs_transform: [1, 0, 0, 0, 1, 0]<input type='checkbox' class='ee-toggle'></label><ul><li><span class='ee-k'>0:</span><span class='ee-v'>1</span></li><li><span class='ee-k'>1:</span><span class='ee-v'>0</span></li><li><span class='ee-k'>2:</span><span class='ee-v'>0</span></li><li><span class='ee-k'>3:</span><span class='ee-v'>0</span></li><li><span class='ee-k'>4:</span><span class='ee-v'>1</span></li><li><span class='ee-k'>5:</span><span class='ee-v'>0</span></li></ul></li><li><label class='ee-shut'>data_type: int ∈ [0, 1]<input type='checkbox' class='ee-toggle'></label><ul><li><span class='ee-k'>type:</span><span class='ee-v'>PixelType</span></li><li><span class='ee-k'>max:</span><span class='ee-v'>1</span></li><li><span class='ee-k'>min:</span><span class='ee-v'>0</span></li><li><span class='ee-k'>precision:</span><span class='ee-v'>int</span></li></ul></li></ul></li><li><label class='ee-shut'>26: \"summer_crops\", int ∈ [0, 1], EPSG:4326<input type='checkbox' class='ee-toggle'></label><ul><li><span class='ee-k'>id:</span><span class='ee-v'>summer_crops</span></li><li><span class='ee-k'>crs:</span><span class='ee-v'>EPSG:4326</span></li><li><label class='ee-shut'>crs_transform: [1, 0, 0, 0, 1, 0]<input type='checkbox' class='ee-toggle'></label><ul><li><span class='ee-k'>0:</span><span class='ee-v'>1</span></li><li><span class='ee-k'>1:</span><span class='ee-v'>0</span></li><li><span class='ee-k'>2:</span><span class='ee-v'>0</span></li><li><span class='ee-k'>3:</span><span class='ee-v'>0</span></li><li><span class='ee-k'>4:</span><span class='ee-v'>1</span></li><li><span class='ee-k'>5:</span><span class='ee-v'>0</span></li></ul></li><li><label class='ee-shut'>data_type: int ∈ [0, 1]<input type='checkbox' class='ee-toggle'></label><ul><li><span class='ee-k'>type:</span><span class='ee-v'>PixelType</span></li><li><span class='ee-k'>max:</span><span class='ee-v'>1</span></li><li><span class='ee-k'>min:</span><span class='ee-v'>0</span></li><li><span class='ee-k'>precision:</span><span class='ee-v'>int</span></li></ul></li></ul></li><li><label class='ee-shut'>27: \"crops\", signed int64, EPSG:4326<input type='checkbox' class='ee-toggle'></label><ul><li><span class='ee-k'>id:</span><span class='ee-v'>crops</span></li><li><span class='ee-k'>crs:</span><span class='ee-v'>EPSG:4326</span></li><li><label class='ee-shut'>crs_transform: [1, 0, 0, 0, 1, 0]<input type='checkbox' class='ee-toggle'></label><ul><li><span class='ee-k'>0:</span><span class='ee-v'>1</span></li><li><span class='ee-k'>1:</span><span class='ee-v'>0</span></li><li><span class='ee-k'>2:</span><span class='ee-v'>0</span></li><li><span class='ee-k'>3:</span><span class='ee-v'>0</span></li><li><span class='ee-k'>4:</span><span class='ee-v'>1</span></li><li><span class='ee-k'>5:</span><span class='ee-v'>0</span></li></ul></li><li><label class='ee-shut'>data_type: signed int64<input type='checkbox' class='ee-toggle'></label><ul><li><span class='ee-k'>type:</span><span class='ee-v'>PixelType</span></li><li><span class='ee-k'>max:</span><span class='ee-v'>9.223372036854776e+18</span></li><li><span class='ee-k'>min:</span><span class='ee-v'>-9.223372036854776e+18</span></li><li><span class='ee-k'>precision:</span><span class='ee-v'>int</span></li></ul></li></ul></li></ul></li><li><label class='ee-shut'>properties: Object (1 property)<input type='checkbox' class='ee-toggle'></label><ul><li><span class='ee-k'>monsoon_year:</span><span class='ee-v'>2015</span></li></ul></li></ul></li></ul></div><script>function toggleHeader() {\n",
       "    const parent = this.parentElement;\n",
       "    parent.className = parent.className === \"ee-open\" ? \"ee-shut\" : \"ee-open\";\n",
       "}\n",
       "\n",
       "for (let c of document.getElementsByClassName(\"ee-toggle\")) {\n",
       "    c.onclick = toggleHeader;\n",
       "}</script></div>"
      ],
      "text/plain": [
       "<ee.image.Image at 0x14e9134f0>"
      ]
     },
     "execution_count": 47,
     "metadata": {},
     "output_type": "execute_result"
    }
   ],
   "source": [
    "im_seasons_15_22"
   ]
  },
  {
   "cell_type": "code",
   "execution_count": 30,
   "id": "31c36656-6656-4a0a-bb35-3f4a4be81203",
   "metadata": {},
   "outputs": [],
   "source": [
    "im_seasons_all = ee.ImageCollection([im_seasons_00_22,\n",
    "                                    #  im_seasons_06_22,\n",
    "                                    # im_seasons_07_22,\n",
    "                                    # im_seasons_08_22,\n",
    "                                    # im_seasons_09_22,\n",
    "                                    # im_seasons_10_22,\n",
    "                                    # im_seasons_11_22,\n",
    "                                    # im_seasons_12_22,\n",
    "                                    # im_seasons_13_22,\n",
    "                                    # im_seasons_14_22,\n",
    "                                    im_seasons_15_22,\n",
    "                                    im_seasons_16_22,\n",
    "                                    im_seasons_17_22,\n",
    "                                    im_seasons_18_22,\n",
    "                                    im_seasons_19_22,\n",
    "                                    im_seasons_20_22,\n",
    "                                    im_seasons_21_22,\n",
    "                                    im_seasons_22_22])\n",
    "                                    #  im_seasons_15, \n",
    "                                    #  im_seasons_16,\n",
    "                                    #  im_seasons_17,\n",
    "                                    #  im_seasons_18,\n",
    "                                    #  im_seasons_19,\n",
    "                                    #  im_seasons_20,\n",
    "                                    #  im_seasons_21])\n"
   ]
  },
  {
   "cell_type": "code",
   "execution_count": 16,
   "id": "d3881f96",
   "metadata": {},
   "outputs": [],
   "source": [
    "\n",
    "# m16.addLayer(im_seasons_06_22.clip(ee_geometry), {'bands':['crops'], 'min':0, 'max':3, 'palette': colors},'crops 2006 NDVI>0.22')"
   ]
  },
  {
   "cell_type": "code",
   "execution_count": 24,
   "id": "a95dee78-6e44-4e38-9d12-0a582c541eb5",
   "metadata": {},
   "outputs": [],
   "source": [
    "# def get_crops_bit_adj(im):\n",
    "#     monsoon_year = im.get('monsoon_year')\n",
    "#     crops_year_diff = ee.Number(monsoon_year).subtract(2015)\n",
    "#     crops_mult = ee.Number(4).pow(crops_year_diff)\n",
    "    \n",
    "#     return im.select(['crops']).multiply(crops_mult)\n",
    "#     # crops_bit = \n",
    "    \n",
    "    \n",
    "# crops_2bit_base2015 = im_seasons_all \\\n",
    "#   .filter(ee.Filter.lte('monsoon_year',2015)) \\\n",
    "#   .map(get_crops_bit_adj) \\\n",
    "#   .reduce(ee.Reducer.sum())\n",
    "    "
   ]
  },
  {
   "cell_type": "code",
   "execution_count": 13,
   "id": "5534a05f-704d-42a8-837f-c0bd8e36ab4e",
   "metadata": {},
   "outputs": [],
   "source": [
    "# def select_crops_year(im):\n",
    "#     monsoon_year = ee.String(im.get('monsoon_year'))\n",
    "#     band_name = ee.String('y').cat(monsoon_year)\n",
    "    \n",
    "#     return im.select(['crops'],[band_name])\n",
    "    \n",
    "\n",
    "# crops_bands = im_seasons_all.select(['crops']).toBands()\n",
    "\n",
    "# crops_bands.getInfo()"
   ]
  },
  {
   "cell_type": "code",
   "execution_count": 14,
   "id": "0391042d-568e-4222-ade3-304def5912e2",
   "metadata": {},
   "outputs": [],
   "source": [
    "# mall = geemap.Map()\n",
    "\n",
    "# mall.addLayer(crops_2bit_base2015,{'min':0,'max':16000},'crops_2bit_base2015')\n",
    "# mall.centerObject(ee_geometry_box, 10)\n",
    "# mall.addLayerControl()\n",
    "# mall"
   ]
  },
  {
   "cell_type": "code",
   "execution_count": 16,
   "id": "76f75558-2ed0-4e60-a16f-ae53047bb1ad",
   "metadata": {},
   "outputs": [],
   "source": [
    "crops_task = ee.batch.Export.image.toDrive(\n",
    "    image = im_seasons_15_22,\n",
    "    description = 'crops_bands',\n",
    "    folder = 'classy_downloads',\n",
    "    fileNamePrefix = 'karur_crops_2015_2021',\n",
    "    region = ee_geometry_box,\n",
    "    scale = 30)\n",
    "\n",
    "# crops_task.start()"
   ]
  },
  {
   "cell_type": "code",
   "execution_count": 46,
   "id": "56a0a5a8-d4ff-4de2-9280-24ba0fb2cdc3",
   "metadata": {},
   "outputs": [
    {
     "data": {
      "application/vnd.jupyter.widget-view+json": {
       "model_id": "23813248666942288c216793548fa6e9",
       "version_major": 2,
       "version_minor": 0
      },
      "text/plain": [
       "Map(center=[11.748174793282523, 77.4497503999458], controls=(WidgetControl(options=['position', 'transparent_b…"
      ]
     },
     "metadata": {},
     "output_type": "display_data"
    }
   ],
   "source": [
    "# gfsad30 = ee.Image(\"users/gopalpenny/GFSAD30\")\n",
    "m = geemap.Map()\n",
    "\n",
    "colors = ['#D2B48C',  '#EEC900', '#90EE90',  '#228B22']\n",
    "colors7 = [\"#F1F1F1\",\"#E8DCCA\",\"#B5C8A2\",\"#68B094\",\"#008E9A\",\"#395E96\",\"#6B0077\"]\n",
    "\n",
    "m.addLayer(im_seasons_00_22.clip(ee_geometry), {'bands':['crops'], 'min':0, 'max':3, 'palette': colors},'crops 2000')\n",
    "# m.addLayer(im_seasons_06_22.clip(ee_geometry), {'bands':['crops'], 'min':0, 'max':3, 'palette': colors},'crops 2006')\n",
    "# m.addLayer(im_seasons_07_22.clip(ee_geometry), {'bands':['crops'], 'min':0, 'max':3, 'palette': colors},'crops 2007')\n",
    "m.addLayer(im_seasons_15_22.clip(ee_geometry), {'bands':['crops'], 'min':0, 'max':3, 'palette': colors},'crops 2015')\n",
    "m.addLayer(im_seasons_16_22.clip(ee_geometry), {'bands':['crops'], 'min':0, 'max':3, 'palette': colors},'crops 2016')\n",
    "m.addLayer(im_seasons_17_22.clip(ee_geometry), {'bands':['crops'], 'min':0, 'max':3, 'palette': colors},'crops 2017')\n",
    "m.addLayer(im_seasons_18_22.clip(ee_geometry), {'bands':['crops'], 'min':0, 'max':3, 'palette': colors},'crops 2018')\n",
    "m.addLayer(im_seasons_19_22.clip(ee_geometry), {'bands':['crops'], 'min':0, 'max':3, 'palette': colors},'crops 2019')\n",
    "# m.addLayer(im_seasons_20_22.clip(ee_geometry), {'bands':['crops'], 'min':0, 'max':3, 'palette': colors},'crops 2020')\n",
    "# m.addLayer(im_seasons_21_22.clip(ee_geometry), {'bands':['crops'], 'min':0, 'max':3, 'palette': colors},'crops 2021')\n",
    "# m.addLayer(im_seasons_22_22.clip(ee_geometry), {'bands':['crops'], 'min':0, 'max':3, 'palette': colors},'crops 2022')\n",
    "\n",
    "\n",
    "\n",
    "# m.addLayer(im_seasons_06.clip(ee_geometry), {'bands':['kharif_count'], 'min':0, 'max':6, 'palette': colors7},'kharif count 2006')\n",
    "# m.addLayer(im_seasons_06.clip(ee_geometry), {'bands':['rabi_count'], 'min':0, 'max':6, 'palette': colors7},'rabi count 2006')\n",
    "# m.addLayer(im_seasons_06.clip(ee_geometry), {'bands':['summer_count'], 'min':0, 'max':6, 'palette': colors7},'summer count 2006')\n",
    "# m.addLayer(im_seasons_15.clip(ee_geometry), {'bands':['crops'], 'min':0, 'max':3, 'palette': colors},'crops 2015')\n",
    "# m.addLayer(im_seasons_16.clip(ee_geometry), {'bands':['crops'], 'min':0, 'max':3, 'palette': colors},'crops 2016')\n",
    "# m.addLayer(im_seasons_21.clip(ee_geometry), {'bands':['crops'], 'min':0, 'max':3, 'palette': colors},'crops 2021')\n",
    "# m.centerObject(ee_geometry, 13)\n",
    "m.addLayerControl()\n",
    "m.centerObject(ee_geometry,8)\n",
    "m"
   ]
  },
  {
   "cell_type": "code",
   "execution_count": 52,
   "id": "91aa50e2-0538-4fde-886a-0d03d82565e9",
   "metadata": {},
   "outputs": [
    {
     "data": {
      "application/vnd.jupyter.widget-view+json": {
       "model_id": "dab8968461aa4f699971dbe309ad1d73",
       "version_major": 2,
       "version_minor": 0
      },
      "text/plain": [
       "Map(center=[20, 0], controls=(WidgetControl(options=['position', 'transparent_bg'], widget=HBox(children=(Togg…"
      ]
     },
     "metadata": {},
     "output_type": "display_data"
    }
   ],
   "source": [
    "m16 = geemap.Map()\n",
    "\n",
    "colors = ['#D2B48C',  '#EEC900', '#90EE90',  '#228B22']\n",
    "\n",
    "# m.addLayer(gfsad30, {'min':0, 'max':2},'gfsad30')\n",
    "# m16.addLayer(im_seasons_16, {'bands':['SR_B5_kharif','SR_B4_kharif','SR_B3_kharif'], 'min':5000, 'max':30000},'oli8 kharif')\n",
    "# m16.addLayer(im_seasons_16, {'bands':['SR_B5_rabi','SR_B4_rabi','SR_B3_rabi'], 'min':5000, 'max':30000},'oli8 rabi')\n",
    "\n",
    "# 2000\n",
    "m16.addLayer(im_seasons_00_22.clip(ee_geometry), {'bands':['nir_median_rabi','red_median_rabi','green_median_rabi'], 'min':0, 'max':30000},'rabi 2000')\n",
    "m16.addLayer(im_seasons_00_22.clip(ee_geometry), {'bands':['nir_median_kharif','red_median_kharif','green_median_kharif'], 'min':0, 'max':30000},'kharif 2000')\n",
    "m16.addLayer(im_seasons_00_22.clip(ee_geometry), {'bands':['nir_median_summer','red_median_summer','green_median_summer'], 'min':0, 'max':30000},'summer 2000')\n",
    "m16.addLayer(im_seasons_00_22.clip(ee_geometry), {'bands':['crops'], 'min':0, 'max':3, 'palette': colors},'crops 2000 NDVI>0.22')\n",
    "\n",
    "# 2015\n",
    "m16.addLayer(im_seasons_15_22.clip(ee_geometry), {'bands':['nir_median_kharif','red_median_kharif','green_median_kharif'], 'min':0, 'max':30000},'kharif 2015')\n",
    "m16.addLayer(im_seasons_15_22.clip(ee_geometry), {'bands':['nir_median_rabi','red_median_rabi','green_median_rabi'], 'min':0, 'max':30000},'rabi 2015')\n",
    "m16.addLayer(im_seasons_15_22.clip(ee_geometry), {'bands':['nir_median_summer','red_median_summer','green_median_summer'], 'min':0, 'max':30000},'summer 2015')\n",
    "m16.addLayer(im_seasons_15_22.clip(ee_geometry), {'bands':['crops'], 'min':0, 'max':3, 'palette': colors},'crops 2015 NDVI>0.22')\n",
    "\n",
    "# 2016\n",
    "m16.addLayer(im_seasons_16_22.clip(ee_geometry), {'bands':['nir_median_kharif','red_median_kharif','green_median_kharif'], 'min':0, 'max':30000},'kharif 2016')\n",
    "m16.addLayer(im_seasons_16_22.clip(ee_geometry), {'bands':['nir_median_rabi','red_median_rabi','green_median_rabi'], 'min':0, 'max':30000},'rabi 2016')\n",
    "m16.addLayer(im_seasons_16_22.clip(ee_geometry), {'bands':['nir_median_summer','red_median_summer','green_median_summer'], 'min':0, 'max':30000},'summer 2016')\n",
    "m16.addLayer(im_seasons_16_22.clip(ee_geometry), {'bands':['crops'], 'min':0, 'max':3, 'palette': colors},'crops 2016 NDVI>0.22')\n",
    "\n",
    "m16.addLayer(im_seasons_18_22.clip(ee_geometry), {'bands':['nir_median_kharif','red_median_kharif','green_median_kharif'], 'min':0, 'max':30000},'kharif 2016')\n",
    "m16.addLayer(im_seasons_18_22.clip(ee_geometry), {'bands':['nir_median_rabi','red_median_rabi','green_median_rabi'], 'min':0, 'max':30000},'rabi 2016')\n",
    "m16.addLayer(im_seasons_18_22.clip(ee_geometry), {'bands':['nir_median_summer','red_median_summer','green_median_summer'], 'min':0, 'max':30000},'summer 2016')\n",
    "m16.addLayer(im_seasons_18_22.clip(ee_geometry), {'bands':['crops'], 'min':0, 'max':3, 'palette': colors},'crops 2016 NDVI>0.22')\n",
    "\n",
    "# m16.addLayer(im_seasons_06_25.clip(ee_geometry), {'bands':['crops'], 'min':0, 'max':3, 'palette': colors},'crops 2006 NDVI>0.25')\n",
    "# m16.addLayer(im_seasons_15_22.clip(ee_geometry), {'bands':['crops'], 'min':0, 'max':3, 'palette': colors},'crops 2006 NDVI>0.22')\n",
    "# m16.addLayer(im_seasons_15_22.clip(ee_geometry), {'bands':['crops'], 'min':0, 'max':3, 'palette': colors},'crops 2006 NDVI>0.2')\n",
    "# m16.addLayer(im_seasons_06.clip(ee_geometry), {'bands':['NDVI_rabi'], 'min':0, 'max':0.5},'ndvi rabi')\n",
    "# m16.addLayer(im_seasons_06.clip(ee_geometry), {'bands':['NDVI_summer'], 'min':0, 'max':0.5},'ndvi summer')\n",
    "# m16.addLayer(im_seasons_06.clip(ee_geometry), {'bands':['NDVI_kharif'], 'min':0, 'max':0.5},'ndvi kharif')\n",
    "# m16.addLayer(im_seasons_06.clip(ee_geometry), {'bands':['NDVI_rabi'], 'min':0, 'max':0.5},'ndvi rabi')\n",
    "# m16.addLayer(im_seasons_06.clip(ee_geometry), {'bands':['NDVI_summer'], 'min':0, 'max':0.5},'ndvi summer')\n",
    "# m16.addLayer(im_seasons_06.clip(ee_geometry), {'bands':['NDVI_kharif','NDVI_rabi','NDVI_summer'], 'min':0, 'max':0.5},'ndvi all')\n",
    "\n",
    "# m16.addLayer(im_seasons_16.gt(0.25), {'bands':['NDVI_rabi'], 'min':0, 'max':0.5},'crop rabi')\n",
    "# m16.addLayer(im_seasons_15, {'bands':['crops'], 'min':0, 'max':3},'crops 2015')\n",
    "# m16.addLayer(im_seasons_16, {'bands':['crops'], 'min':0, 'max':3},'crops 2016')\n",
    "# m16.addLayer(im_seasons_16, {'bands':['crops'], 'min':0, 'max':3},'crops 2016')\n",
    "# m16.addLayer(im_seasons_16, {'bands':['MNDWI_kharif','NDVI_rabi','NDVI_summer'], 'min':0.1, 'max':0.3},'mndwi kharif')\n",
    "# m16.addLayer(im_seasons_16, {'bands':['MNDWI_kharif'], 'min':-0.2, 'max':0.1},'mndwi kharif')\n",
    "# m16.addLayer(im_seasons_16, {'bands':['MNDWI_rabi'], 'min':-0.2, 'max':0.1},'mndwi rabi')\n",
    "# m.addLayer(oli8_summer, {'bands':['NDVI'], 'min':0, 'max':0.5},'ndvi summer')\n",
    "# m.addLayer(oli8_kharif, {'bands':['MNDWI'], 'min':-0.3, 'max':0},'ndwi_median')\n",
    "# m.addLayer(ee_geometry)\n",
    "m16.centerObject(ee_geometry, 8)\n",
    "m16.addLayerControl()\n",
    "m16"
   ]
  },
  {
   "cell_type": "code",
   "execution_count": null,
   "id": "ac2efb83",
   "metadata": {},
   "outputs": [],
   "source": []
  }
 ],
 "metadata": {
  "kernelspec": {
   "display_name": "dsgeom",
   "language": "python",
   "name": "python3"
  },
  "language_info": {
   "codemirror_mode": {
    "name": "ipython",
    "version": 3
   },
   "file_extension": ".py",
   "mimetype": "text/x-python",
   "name": "python",
   "nbconvert_exporter": "python",
   "pygments_lexer": "ipython3",
   "version": "3.9.16"
  }
 },
 "nbformat": 4,
 "nbformat_minor": 5
}
