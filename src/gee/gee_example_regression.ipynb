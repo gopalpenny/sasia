{
 "cells": [
  {
   "cell_type": "code",
   "execution_count": 4,
   "metadata": {},
   "outputs": [],
   "source": [
    "import ee\n",
    "import geemap\n",
    "ee.Initialize()"
   ]
  },
  {
   "cell_type": "code",
   "execution_count": 5,
   "metadata": {},
   "outputs": [],
   "source": [
    "landsat8Sr = ee.ImageCollection('LANDSAT/LC08/C02/T1_L2')\n",
    "roi = ee.Geometry.Point([-80.498, 37.254])\n",
    "\n",
    "# Function to cloud mask from the pixel_qa band of Landsat 8 SR data.\n",
    "def maskL8sr(image):\n",
    "  # Bit 0 - Fill\n",
    "  # Bit 1 - Dilated Cloud\n",
    "  # Bit 2 - Cirrus\n",
    "  # Bit 3 - Cloud\n",
    "  # Bit 4 - Cloud Shadow\n",
    "  qaMask = image.select('QA_PIXEL').bitwiseAnd(31).eq(0)\n",
    "  saturationMask = image.select('QA_RADSAT').eq(0)\n",
    "\n",
    "  # Apply the scaling factors to the appropriate bands.\n",
    "  opticalBands = image.select('SR_B.').multiply(0.0000275).add(-0.2)\n",
    "  thermalBands = image.select('ST_B.*').multiply(0.00341802).add(149.0)\n",
    "\n",
    "  # Replace the original bands with the scaled ones and apply the masks.\n",
    "  return image \\\n",
    "    .addBands(opticalBands, None, True) \\\n",
    "    .addBands(thermalBands, None, True) \\\n",
    "    .updateMask(qaMask) \\\n",
    "    .updateMask(saturationMask)\n",
    "\n"
   ]
  },
  {
   "cell_type": "code",
   "execution_count": 6,
   "metadata": {},
   "outputs": [],
   "source": [
    "\n",
    "\n",
    "# Function to add NDVI, time, and constant variables to Landsat 8 imagery.\n",
    "def addVariables(image):\n",
    "  # Compute time in fractional years since the epoch.\n",
    "  date = image.date()\n",
    "  years = date.difference(ee.Date('1970-01-01'), 'year')\n",
    "  # Return the image with the added bands.\n",
    "  return image \\\n",
    "    .addBands(image.normalizedDifference(['SR_B5', 'SR_B4']).rename('NDVI')) \\\n",
    "    .addBands(ee.Image(years).rename('t')).float() \\\n",
    "    .addBands(ee.Image.constant(1)) \\\n",
    "\n",
    "# Remove clouds, add variables and filter to the area of interest.\n",
    "filteredLandsat = landsat8Sr \\\n",
    "  .filterBounds(roi) \\\n",
    "  .filterDate('2013', '2022') \\\n",
    "  .map(maskL8sr) \\\n",
    "  .map(addVariables)"
   ]
  },
  {
   "attachments": {},
   "cell_type": "markdown",
   "metadata": {},
   "source": []
  },
  {
   "cell_type": "code",
   "execution_count": 8,
   "metadata": {},
   "outputs": [
    {
     "data": {
      "application/vnd.jupyter.widget-view+json": {
       "model_id": "f7422cf423c34c048b7509e5efa92900",
       "version_major": 2,
       "version_minor": 0
      },
      "text/plain": [
       "Map(center=[37.254, -80.498], controls=(WidgetControl(options=['position', 'transparent_bg'], widget=HBox(chil…"
      ]
     },
     "metadata": {},
     "output_type": "display_data"
    }
   ],
   "source": [
    "# List of the independent variable names.\n",
    "independents = ee.List(['constant', 't'])\n",
    "# Name of the dependent variable.\n",
    "dependent = ee.String('NDVI')\n",
    "# Compute a linear trend. This will have two bands: 'residuals' and\n",
    "# a 2x1 band called 'coefficients' (columns are for dependent variables).\n",
    "trend = filteredLandsat.select(independents.add(dependent)) \\\n",
    "  .reduce(ee.Reducer.linearRegression(independents.length(), 1))\n",
    "\n",
    "Map = geemap.Map()\n",
    "Map.addLayer(trend, {}, 'Trend Array Image')\n",
    "Map.centerObject(roi, 10)\n",
    "\n",
    "Map"
   ]
  },
  {
   "cell_type": "code",
   "execution_count": 11,
   "metadata": {},
   "outputs": [],
   "source": [
    "\n",
    "# Flatten the coefficients into a 2-band image.\n",
    "\n",
    "bandNames = [['constant', 't'], ['NDVI']]\n",
    "coefficients = trend.select('coefficients') #\\\n",
    "  # .arrayProject([0]) \\\n",
    "  # .arrayFlatten([independents])\n",
    "\n",
    "coeff_mat = coefficients.arrayFlatten(bandNames) #.getInfo()"
   ]
  },
  {
   "cell_type": "code",
   "execution_count": 12,
   "metadata": {},
   "outputs": [
    {
     "data": {
      "text/plain": [
       "{'type': 'Image',\n",
       " 'bands': [{'id': 'constant_NDVI',\n",
       "   'data_type': {'type': 'PixelType', 'precision': 'double'},\n",
       "   'crs': 'EPSG:4326',\n",
       "   'crs_transform': [1, 0, 0, 0, 1, 0]},\n",
       "  {'id': 't_NDVI',\n",
       "   'data_type': {'type': 'PixelType', 'precision': 'double'},\n",
       "   'crs': 'EPSG:4326',\n",
       "   'crs_transform': [1, 0, 0, 0, 1, 0]}]}"
      ]
     },
     "execution_count": 12,
     "metadata": {},
     "output_type": "execute_result"
    }
   ],
   "source": [
    "coeff_mat.getInfo()"
   ]
  },
  {
   "cell_type": "code",
   "execution_count": null,
   "metadata": {},
   "outputs": [],
   "source": []
  }
 ],
 "metadata": {
  "kernelspec": {
   "display_name": "dsgeom",
   "language": "python",
   "name": "python3"
  },
  "language_info": {
   "codemirror_mode": {
    "name": "ipython",
    "version": 3
   },
   "file_extension": ".py",
   "mimetype": "text/x-python",
   "name": "python",
   "nbconvert_exporter": "python",
   "pygments_lexer": "ipython3",
   "version": "3.9.16"
  },
  "orig_nbformat": 4
 },
 "nbformat": 4,
 "nbformat_minor": 2
}
