{
 "cells": [
  {
   "cell_type": "code",
   "execution_count": 5,
   "metadata": {},
   "outputs": [],
   "source": [
    "import ee\n",
    "import geemap\n",
    "import numpy as np\n",
    "import sys\n",
    "import geopandas as gpd\n",
    "sys.path.insert(1, '/Users/gopal/Projects/ml/downloadGEErasters')\n",
    "sys.path.insert(1, '/Users/gopal/Projects/sasia/src/proc/')\n",
    "import rs\n",
    "from datetime import datetime, timedelta\n",
    "from dateutil.relativedelta import relativedelta\n",
    "# from rs import prep_tm5_ic, prep_etm7_ic, prep_oli8_ic, prep_landsat_clouds"
   ]
  },
  {
   "cell_type": "code",
   "execution_count": 6,
   "metadata": {},
   "outputs": [],
   "source": [
    "ee.Initialize()"
   ]
  },
  {
   "cell_type": "code",
   "execution_count": 7,
   "metadata": {},
   "outputs": [
    {
     "data": {
      "text/plain": [
       "['TG_Halli']"
      ]
     },
     "execution_count": 7,
     "metadata": {},
     "output_type": "execute_result"
    }
   ],
   "source": [
    "ee_geometry = ee.FeatureCollection('users/gopalpenny/arkavathytanks/ArkavatiSubbasins')\n",
    "tg_halli = ee_geometry.filter(ee.Filter.eq('Subcatch', 'TG_Halli'))\n",
    "tg_halli.aggregate_array('Subcatch').getInfo()"
   ]
  },
  {
   "cell_type": "code",
   "execution_count": 8,
   "metadata": {},
   "outputs": [],
   "source": [
    "\n",
    "tm5 = rs.prep_tm5_ic(ee_geometry).filterDate('2014-06-01','2015-06-01')\n",
    "etm7 = rs.prep_etm7_ic(ee_geometry).filterDate('2014-06-01','2015-06-01')\n",
    "oli8 = rs.prep_oli8_ic(tg_halli).filterDate('2014-06-01','2015-06-01')\n",
    "\n",
    "landsat = tm5.merge(etm7).merge(oli8) \\\n",
    "    .filter(ee.Filter.lt('CLOUD_COVER', 50))\n",
    "\n",
    "landsat_clouds = rs.prep_landsat_clouds(landsat)"
   ]
  },
  {
   "cell_type": "code",
   "execution_count": 9,
   "metadata": {},
   "outputs": [
    {
     "data": {
      "text/plain": [
       "['2014-06-11',\n",
       " '2014-06-27',\n",
       " '2014-08-14',\n",
       " '2014-09-15',\n",
       " '2014-10-01',\n",
       " '2014-10-17',\n",
       " '2014-11-18',\n",
       " '2014-12-04',\n",
       " '2014-12-20',\n",
       " '2015-01-05',\n",
       " '2015-01-21',\n",
       " '2015-02-06',\n",
       " '2015-02-22',\n",
       " '2015-03-10',\n",
       " '2015-04-27',\n",
       " '2015-05-29',\n",
       " '2014-06-11',\n",
       " '2014-06-27',\n",
       " '2014-08-14',\n",
       " '2014-09-15',\n",
       " '2014-10-01',\n",
       " '2014-11-18',\n",
       " '2014-12-04',\n",
       " '2015-01-05',\n",
       " '2015-01-21',\n",
       " '2015-02-06',\n",
       " '2015-02-22',\n",
       " '2015-03-10',\n",
       " '2015-04-11',\n",
       " '2015-04-27',\n",
       " '2014-08-22',\n",
       " '2014-09-23',\n",
       " '2014-10-09',\n",
       " '2014-11-10',\n",
       " '2014-11-26',\n",
       " '2015-01-13',\n",
       " '2015-01-29',\n",
       " '2015-02-14',\n",
       " '2015-03-18',\n",
       " '2015-04-03',\n",
       " '2015-04-19',\n",
       " '2015-05-05',\n",
       " '2015-05-21']"
      ]
     },
     "execution_count": 9,
     "metadata": {},
     "output_type": "execute_result"
    }
   ],
   "source": [
    "# landsat = landsat #\\\n",
    "  # .filterDate('2014-11-01','2015-02-01') #\\\n",
    "  # .filter(ee.Filter.inList('DATE_ACQUIRED', ee.List(['2014-11-10','2015-01-13'])))\n",
    "\n",
    "landsat_clouds.aggregate_array('DATE_ACQUIRED').getInfo()"
   ]
  },
  {
   "cell_type": "code",
   "execution_count": 30,
   "metadata": {},
   "outputs": [
    {
     "data": {
      "text/html": [
       "<div>\n",
       "<style scoped>\n",
       "    .dataframe tbody tr th:only-of-type {\n",
       "        vertical-align: middle;\n",
       "    }\n",
       "\n",
       "    .dataframe tbody tr th {\n",
       "        vertical-align: top;\n",
       "    }\n",
       "\n",
       "    .dataframe thead th {\n",
       "        text-align: right;\n",
       "    }\n",
       "</style>\n",
       "<table border=\"1\" class=\"dataframe\">\n",
       "  <thead>\n",
       "    <tr style=\"text-align: right;\">\n",
       "      <th></th>\n",
       "      <th>Unique_ID</th>\n",
       "      <th>Longitude</th>\n",
       "      <th>Latitude</th>\n",
       "      <th>geometry</th>\n",
       "    </tr>\n",
       "  </thead>\n",
       "  <tbody>\n",
       "    <tr>\n",
       "      <th>0</th>\n",
       "      <td>1_MAPIN_13/11/2014</td>\n",
       "      <td>77.3006</td>\n",
       "      <td>13.1950</td>\n",
       "      <td>POINT (77.30060 13.19500)</td>\n",
       "    </tr>\n",
       "    <tr>\n",
       "      <th>1</th>\n",
       "      <td>2_MAPIN_13/11/2014</td>\n",
       "      <td>77.3016</td>\n",
       "      <td>13.1953</td>\n",
       "      <td>POINT (77.30160 13.19530)</td>\n",
       "    </tr>\n",
       "    <tr>\n",
       "      <th>2</th>\n",
       "      <td>3_MAPIN_13/11/2014</td>\n",
       "      <td>77.3025</td>\n",
       "      <td>13.1958</td>\n",
       "      <td>POINT (77.30250 13.19580)</td>\n",
       "    </tr>\n",
       "    <tr>\n",
       "      <th>3</th>\n",
       "      <td>4_MAPIN_13/11/2014</td>\n",
       "      <td>77.3032</td>\n",
       "      <td>13.1959</td>\n",
       "      <td>POINT (77.30320 13.19590)</td>\n",
       "    </tr>\n",
       "    <tr>\n",
       "      <th>4</th>\n",
       "      <td>5_MAPIN_13/11/2014</td>\n",
       "      <td>77.3033</td>\n",
       "      <td>13.1953</td>\n",
       "      <td>POINT (77.30330 13.19530)</td>\n",
       "    </tr>\n",
       "    <tr>\n",
       "      <th>...</th>\n",
       "      <td>...</td>\n",
       "      <td>...</td>\n",
       "      <td>...</td>\n",
       "      <td>...</td>\n",
       "    </tr>\n",
       "    <tr>\n",
       "      <th>614</th>\n",
       "      <td>1809_GPS_22/08/2014</td>\n",
       "      <td>77.2738</td>\n",
       "      <td>13.2742</td>\n",
       "      <td>POINT (77.27383 13.27420)</td>\n",
       "    </tr>\n",
       "    <tr>\n",
       "      <th>615</th>\n",
       "      <td>1810_GPS_22/08/2014</td>\n",
       "      <td>77.2720</td>\n",
       "      <td>13.2635</td>\n",
       "      <td>POINT (77.27198 13.26347)</td>\n",
       "    </tr>\n",
       "    <tr>\n",
       "      <th>616</th>\n",
       "      <td>1811_GPS_22/08/2014</td>\n",
       "      <td>77.2698</td>\n",
       "      <td>13.2452</td>\n",
       "      <td>POINT (77.26981 13.24523)</td>\n",
       "    </tr>\n",
       "    <tr>\n",
       "      <th>617</th>\n",
       "      <td>1812_GPS_22/08/2014</td>\n",
       "      <td>77.2850</td>\n",
       "      <td>13.2231</td>\n",
       "      <td>POINT (77.28504 13.22306)</td>\n",
       "    </tr>\n",
       "    <tr>\n",
       "      <th>618</th>\n",
       "      <td>1813_GPS_22/08/2014</td>\n",
       "      <td>77.3252</td>\n",
       "      <td>13.1823</td>\n",
       "      <td>POINT (77.32525 13.18233)</td>\n",
       "    </tr>\n",
       "  </tbody>\n",
       "</table>\n",
       "<p>619 rows × 4 columns</p>\n",
       "</div>"
      ],
      "text/plain": [
       "               Unique_ID  Longitude  Latitude                   geometry\n",
       "0     1_MAPIN_13/11/2014    77.3006   13.1950  POINT (77.30060 13.19500)\n",
       "1     2_MAPIN_13/11/2014    77.3016   13.1953  POINT (77.30160 13.19530)\n",
       "2     3_MAPIN_13/11/2014    77.3025   13.1958  POINT (77.30250 13.19580)\n",
       "3     4_MAPIN_13/11/2014    77.3032   13.1959  POINT (77.30320 13.19590)\n",
       "4     5_MAPIN_13/11/2014    77.3033   13.1953  POINT (77.30330 13.19530)\n",
       "..                   ...        ...       ...                        ...\n",
       "614  1809_GPS_22/08/2014    77.2738   13.2742  POINT (77.27383 13.27420)\n",
       "615  1810_GPS_22/08/2014    77.2720   13.2635  POINT (77.27198 13.26347)\n",
       "616  1811_GPS_22/08/2014    77.2698   13.2452  POINT (77.26981 13.24523)\n",
       "617  1812_GPS_22/08/2014    77.2850   13.2231  POINT (77.28504 13.22306)\n",
       "618  1813_GPS_22/08/2014    77.3252   13.1823  POINT (77.32525 13.18233)\n",
       "\n",
       "[619 rows x 4 columns]"
      ]
     },
     "execution_count": 30,
     "metadata": {},
     "output_type": "execute_result"
    }
   ],
   "source": [
    "\n",
    "samp_pts_full = gpd.read_file('../../spatial/unmod/training/Landuse_village_datapoints_15_01_2015.shp')\n",
    "samp_pts = samp_pts_full[['Unique_ID','Longitude','Latitude','geometry']]\n",
    "samp_pts\n"
   ]
  },
  {
   "cell_type": "code",
   "execution_count": 31,
   "metadata": {},
   "outputs": [],
   "source": [
    "samp_pts_ee = geemap.geopandas_to_ee(samp_pts)\n",
    "\n",
    "# oli8.select([0]).projection()\n",
    "\n"
   ]
  },
  {
   "cell_type": "code",
   "execution_count": 33,
   "metadata": {},
   "outputs": [],
   "source": [
    "# print(rs.get_pixel_ts_allbands.__doc__)\n",
    "training_ts = rs.get_pixel_ts_allbands(samp_pts_ee, landsat_clouds, 'DATE_ACQUIRED', scale = 30)\n",
    "# import inspect\n",
    "# print(inspect.getsource(rs.get_pixel_ts_allbands))\n",
    "\n",
    "# crops_task = ee.batch.Export.image.toDrive(\n",
    "#     image = crops_bands,\n",
    "#     description = 'crops_bands',\n",
    "#     folder = 'classy_downloads',\n",
    "#     fileNamePrefix = 'karur_crops_2015_2021',\n",
    "#     region = ee_geometry_box,\n",
    "#     scale = 30)\n",
    "\n",
    "# # crops_task.start()\n",
    "export_ts = ee.batch.Export.table.toDrive(\n",
    "    collection = training_ts,\n",
    "    description = 'training_ts',\n",
    "    folder = 'gee_sasia',\n",
    "    fileNamePrefix = 'landsat_for_lulc_2014_2015',\n",
    "    fileFormat = 'CSV')\n",
    "\n",
    "export_ts.start()"
   ]
  },
  {
   "cell_type": "code",
   "execution_count": 34,
   "metadata": {},
   "outputs": [
    {
     "data": {
      "text/plain": [
       "[<Task 2VX2HDDDGHADYNXN63F2BYSL EXPORT_FEATURES: training_ts (COMPLETED)>,\n",
       " <Task 6JV7R35NSF6CDMQLBBOX6OJW EXPORT_IMAGE: crops_bands (COMPLETED)>]"
      ]
     },
     "execution_count": 34,
     "metadata": {},
     "output_type": "execute_result"
    }
   ],
   "source": [
    "ee.batch.Task.list()"
   ]
  },
  {
   "cell_type": "code",
   "execution_count": 14,
   "metadata": {},
   "outputs": [
    {
     "ename": "Exception",
     "evalue": "Collection query aborted after accumulating over 5000 elements.",
     "output_type": "error",
     "traceback": [
      "\u001b[0;31m---------------------------------------------------------------------------\u001b[0m",
      "\u001b[0;31mHttpError\u001b[0m                                 Traceback (most recent call last)",
      "File \u001b[0;32m~/mambaforge/envs/dsgeom/lib/python3.9/site-packages/ee/data.py:329\u001b[0m, in \u001b[0;36m_execute_cloud_call\u001b[0;34m(call, num_retries)\u001b[0m\n\u001b[1;32m    328\u001b[0m \u001b[39mtry\u001b[39;00m:\n\u001b[0;32m--> 329\u001b[0m   \u001b[39mreturn\u001b[39;00m call\u001b[39m.\u001b[39;49mexecute(num_retries\u001b[39m=\u001b[39;49mnum_retries)\n\u001b[1;32m    330\u001b[0m \u001b[39mexcept\u001b[39;00m googleapiclient\u001b[39m.\u001b[39merrors\u001b[39m.\u001b[39mHttpError \u001b[39mas\u001b[39;00m e:\n",
      "File \u001b[0;32m~/mambaforge/envs/dsgeom/lib/python3.9/site-packages/googleapiclient/_helpers.py:130\u001b[0m, in \u001b[0;36mpositional.<locals>.positional_decorator.<locals>.positional_wrapper\u001b[0;34m(*args, **kwargs)\u001b[0m\n\u001b[1;32m    129\u001b[0m         logger\u001b[39m.\u001b[39mwarning(message)\n\u001b[0;32m--> 130\u001b[0m \u001b[39mreturn\u001b[39;00m wrapped(\u001b[39m*\u001b[39;49margs, \u001b[39m*\u001b[39;49m\u001b[39m*\u001b[39;49mkwargs)\n",
      "File \u001b[0;32m~/mambaforge/envs/dsgeom/lib/python3.9/site-packages/googleapiclient/http.py:938\u001b[0m, in \u001b[0;36mHttpRequest.execute\u001b[0;34m(self, http, num_retries)\u001b[0m\n\u001b[1;32m    937\u001b[0m \u001b[39mif\u001b[39;00m resp\u001b[39m.\u001b[39mstatus \u001b[39m>\u001b[39m\u001b[39m=\u001b[39m \u001b[39m300\u001b[39m:\n\u001b[0;32m--> 938\u001b[0m     \u001b[39mraise\u001b[39;00m HttpError(resp, content, uri\u001b[39m=\u001b[39m\u001b[39mself\u001b[39m\u001b[39m.\u001b[39muri)\n\u001b[1;32m    939\u001b[0m \u001b[39mreturn\u001b[39;00m \u001b[39mself\u001b[39m\u001b[39m.\u001b[39mpostproc(resp, content)\n",
      "\u001b[0;31mHttpError\u001b[0m: <HttpError 400 when requesting https://earthengine.googleapis.com/v1alpha/projects/earthengine-legacy/value:compute?prettyPrint=false&alt=json returned \"Collection query aborted after accumulating over 5000 elements.\". Details: \"Collection query aborted after accumulating over 5000 elements.\">",
      "\nDuring handling of the above exception, another exception occurred:\n",
      "\u001b[0;31mEEException\u001b[0m                               Traceback (most recent call last)",
      "File \u001b[0;32m~/mambaforge/envs/dsgeom/lib/python3.9/site-packages/geemap/common.py:1330\u001b[0m, in \u001b[0;36mee_to_geojson\u001b[0;34m(ee_object, filename, indent, **kwargs)\u001b[0m\n\u001b[1;32m   1325\u001b[0m \u001b[39mif\u001b[39;00m (\n\u001b[1;32m   1326\u001b[0m     \u001b[39misinstance\u001b[39m(ee_object, ee\u001b[39m.\u001b[39mgeometry\u001b[39m.\u001b[39mGeometry)\n\u001b[1;32m   1327\u001b[0m     \u001b[39mor\u001b[39;00m \u001b[39misinstance\u001b[39m(ee_object, ee\u001b[39m.\u001b[39mfeature\u001b[39m.\u001b[39mFeature)\n\u001b[1;32m   1328\u001b[0m     \u001b[39mor\u001b[39;00m \u001b[39misinstance\u001b[39m(ee_object, ee\u001b[39m.\u001b[39mfeaturecollection\u001b[39m.\u001b[39mFeatureCollection)\n\u001b[1;32m   1329\u001b[0m ):\n\u001b[0;32m-> 1330\u001b[0m     json_object \u001b[39m=\u001b[39m ee_object\u001b[39m.\u001b[39;49mgetInfo()\n\u001b[1;32m   1331\u001b[0m     \u001b[39mif\u001b[39;00m filename \u001b[39mis\u001b[39;00m \u001b[39mnot\u001b[39;00m \u001b[39mNone\u001b[39;00m:\n",
      "File \u001b[0;32m~/mambaforge/envs/dsgeom/lib/python3.9/site-packages/ee/collection.py:133\u001b[0m, in \u001b[0;36mCollection.getInfo\u001b[0;34m(self)\u001b[0m\n\u001b[1;32m    121\u001b[0m \u001b[39m\u001b[39m\u001b[39m\"\"\"Returns all the known information about this collection.\u001b[39;00m\n\u001b[1;32m    122\u001b[0m \n\u001b[1;32m    123\u001b[0m \u001b[39mThis function makes an REST call to to retrieve all the known information\u001b[39;00m\n\u001b[0;32m   (...)\u001b[0m\n\u001b[1;32m    131\u001b[0m \u001b[39m       properties.\u001b[39;00m\n\u001b[1;32m    132\u001b[0m \u001b[39m\"\"\"\u001b[39;00m\n\u001b[0;32m--> 133\u001b[0m \u001b[39mreturn\u001b[39;00m \u001b[39msuper\u001b[39;49m(Collection, \u001b[39mself\u001b[39;49m)\u001b[39m.\u001b[39;49mgetInfo()\n",
      "File \u001b[0;32m~/mambaforge/envs/dsgeom/lib/python3.9/site-packages/ee/computedobject.py:96\u001b[0m, in \u001b[0;36mComputedObject.getInfo\u001b[0;34m(self)\u001b[0m\n\u001b[1;32m     91\u001b[0m \u001b[39m\u001b[39m\u001b[39m\"\"\"Fetch and return information about this object.\u001b[39;00m\n\u001b[1;32m     92\u001b[0m \n\u001b[1;32m     93\u001b[0m \u001b[39mReturns:\u001b[39;00m\n\u001b[1;32m     94\u001b[0m \u001b[39m  The object can evaluate to anything.\u001b[39;00m\n\u001b[1;32m     95\u001b[0m \u001b[39m\"\"\"\u001b[39;00m\n\u001b[0;32m---> 96\u001b[0m \u001b[39mreturn\u001b[39;00m data\u001b[39m.\u001b[39;49mcomputeValue(\u001b[39mself\u001b[39;49m)\n",
      "File \u001b[0;32m~/mambaforge/envs/dsgeom/lib/python3.9/site-packages/ee/data.py:786\u001b[0m, in \u001b[0;36mcomputeValue\u001b[0;34m(obj)\u001b[0m\n\u001b[1;32m    784\u001b[0m _maybe_populate_workload_tag(body)\n\u001b[0;32m--> 786\u001b[0m \u001b[39mreturn\u001b[39;00m _execute_cloud_call(\n\u001b[1;32m    787\u001b[0m     _get_cloud_api_resource()\u001b[39m.\u001b[39;49mprojects()\u001b[39m.\u001b[39;49mvalue()\u001b[39m.\u001b[39;49mcompute(\n\u001b[1;32m    788\u001b[0m         body\u001b[39m=\u001b[39;49mbody,\n\u001b[1;32m    789\u001b[0m         project\u001b[39m=\u001b[39;49m_get_projects_path(),\n\u001b[1;32m    790\u001b[0m         prettyPrint\u001b[39m=\u001b[39;49m\u001b[39mFalse\u001b[39;49;00m))[\u001b[39m'\u001b[39m\u001b[39mresult\u001b[39m\u001b[39m'\u001b[39m]\n",
      "File \u001b[0;32m~/mambaforge/envs/dsgeom/lib/python3.9/site-packages/ee/data.py:331\u001b[0m, in \u001b[0;36m_execute_cloud_call\u001b[0;34m(call, num_retries)\u001b[0m\n\u001b[1;32m    330\u001b[0m \u001b[39mexcept\u001b[39;00m googleapiclient\u001b[39m.\u001b[39merrors\u001b[39m.\u001b[39mHttpError \u001b[39mas\u001b[39;00m e:\n\u001b[0;32m--> 331\u001b[0m   \u001b[39mraise\u001b[39;00m _translate_cloud_exception(e)\n",
      "\u001b[0;31mEEException\u001b[0m: Collection query aborted after accumulating over 5000 elements.",
      "\nDuring handling of the above exception, another exception occurred:\n",
      "\u001b[0;31mException\u001b[0m                                 Traceback (most recent call last)",
      "Cell \u001b[0;32mIn[14], line 1\u001b[0m\n\u001b[0;32m----> 1\u001b[0m ts_gpd \u001b[39m=\u001b[39m geemap\u001b[39m.\u001b[39;49mee_to_geopandas(ts)\n\u001b[1;32m      2\u001b[0m ts_gpd\u001b[39m.\u001b[39mto_file(\u001b[39m'\u001b[39m\u001b[39m../../data/format/get_landsat_for_lulc/lulc_oli8.shp\u001b[39m\u001b[39m'\u001b[39m)\n",
      "File \u001b[0;32m~/mambaforge/envs/dsgeom/lib/python3.9/site-packages/geemap/common.py:8913\u001b[0m, in \u001b[0;36mee_to_gdf\u001b[0;34m(ee_object, selectors, verbose)\u001b[0m\n\u001b[1;32m   8910\u001b[0m \u001b[39mif\u001b[39;00m \u001b[39mnot\u001b[39;00m \u001b[39misinstance\u001b[39m(ee_object, ee\u001b[39m.\u001b[39mFeatureCollection):\n\u001b[1;32m   8911\u001b[0m     \u001b[39mraise\u001b[39;00m \u001b[39mTypeError\u001b[39;00m(\u001b[39m\"\u001b[39m\u001b[39mee_object must be an ee.FeatureCollection\u001b[39m\u001b[39m\"\u001b[39m)\n\u001b[0;32m-> 8913\u001b[0m collection \u001b[39m=\u001b[39m ee_to_geojson(ee_object)\n\u001b[1;32m   8914\u001b[0m gdf \u001b[39m=\u001b[39m gpd\u001b[39m.\u001b[39mGeoDataFrame\u001b[39m.\u001b[39mfrom_features(collection[\u001b[39m\"\u001b[39m\u001b[39mfeatures\u001b[39m\u001b[39m\"\u001b[39m])\n\u001b[1;32m   8916\u001b[0m \u001b[39mreturn\u001b[39;00m gdf\n",
      "File \u001b[0;32m~/mambaforge/envs/dsgeom/lib/python3.9/site-packages/geemap/common.py:1344\u001b[0m, in \u001b[0;36mee_to_geojson\u001b[0;34m(ee_object, filename, indent, **kwargs)\u001b[0m\n\u001b[1;32m   1342\u001b[0m         \u001b[39mprint\u001b[39m(\u001b[39m\"\u001b[39m\u001b[39mCould not convert the Earth Engine object to geojson\u001b[39m\u001b[39m\"\u001b[39m)\n\u001b[1;32m   1343\u001b[0m \u001b[39mexcept\u001b[39;00m \u001b[39mException\u001b[39;00m \u001b[39mas\u001b[39;00m e:\n\u001b[0;32m-> 1344\u001b[0m     \u001b[39mraise\u001b[39;00m \u001b[39mException\u001b[39;00m(e)\n",
      "\u001b[0;31mException\u001b[0m: Collection query aborted after accumulating over 5000 elements."
     ]
    }
   ],
   "source": [
    "ts_gpd = geemap.ee_to_geopandas(ts)\n",
    "ts_gpd.to_file('../../data/format/get_landsat_for_lulc/lulc_oli8.shp')"
   ]
  },
  {
   "cell_type": "code",
   "execution_count": 74,
   "metadata": {},
   "outputs": [
    {
     "data": {
      "application/vnd.jupyter.widget-view+json": {
       "model_id": "bd79c10bd71140db929a28002fb51c18",
       "version_major": 2,
       "version_minor": 0
      },
      "text/plain": [
       "Map(center=[12.84852761341192, 77.44092789490166], controls=(WidgetControl(options=['position', 'transparent_b…"
      ]
     },
     "metadata": {},
     "output_type": "display_data"
    }
   ],
   "source": [
    "m = geemap.Map()\n",
    "m.addLayer(oli8.filterDate('2014-11-01','2014-12-01').first(),{'bands':['nir','red','green'], 'max': 30000},'oli8 2014')\n",
    "m.addLayer(oli8.filterDate('2015-01-01','2015-12-01').first(),{'bands':['nir','red','green'], 'max': 30000},'oli8 2015')\n",
    "m.addLayer(ee.Image().paint(ee_geometry,1,1),{'palette':'white'},'ark')\n",
    "m.addLayerControl()\n",
    "m.centerObject(ee_geometry, 10)\n",
    "m"
   ]
  },
  {
   "attachments": {},
   "cell_type": "markdown",
   "metadata": {},
   "source": []
  }
 ],
 "metadata": {
  "kernelspec": {
   "display_name": "dsgeom",
   "language": "python",
   "name": "python3"
  },
  "language_info": {
   "codemirror_mode": {
    "name": "ipython",
    "version": 3
   },
   "file_extension": ".py",
   "mimetype": "text/x-python",
   "name": "python",
   "nbconvert_exporter": "python",
   "pygments_lexer": "ipython3",
   "version": "3.9.16"
  },
  "orig_nbformat": 4
 },
 "nbformat": 4,
 "nbformat_minor": 2
}
