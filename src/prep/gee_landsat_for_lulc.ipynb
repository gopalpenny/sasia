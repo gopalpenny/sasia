{
 "cells": [
  {
   "cell_type": "code",
   "execution_count": 4,
   "metadata": {},
   "outputs": [],
   "source": [
    "import ee\n",
    "import geemap\n",
    "import numpy as np\n",
    "import sys\n",
    "import geopandas as gpd\n",
    "import pandas as pd\n",
    "sys.path.insert(1, '/Users/gopal/Projects/ml/downloadGEErasters')\n",
    "sys.path.insert(1, '/Users/gopal/Projects/sasia/src/proc/')\n",
    "import rs\n",
    "from datetime import datetime, timedelta\n",
    "from dateutil.relativedelta import relativedelta\n",
    "# from rs import prep_tm5_ic, prep_etm7_ic, prep_oli8_ic, prep_landsat_clouds"
   ]
  },
  {
   "cell_type": "code",
   "execution_count": 5,
   "metadata": {},
   "outputs": [],
   "source": [
    "ee.Initialize()"
   ]
  },
  {
   "cell_type": "code",
   "execution_count": 6,
   "metadata": {},
   "outputs": [
    {
     "data": {
      "text/plain": [
       "['TG_Halli']"
      ]
     },
     "execution_count": 6,
     "metadata": {},
     "output_type": "execute_result"
    }
   ],
   "source": [
    "ee_geometry = ee.FeatureCollection('users/gopalpenny/arkavathytanks/ArkavatiSubbasins')\n",
    "tg_halli = ee_geometry.filter(ee.Filter.eq('Subcatch', 'TG_Halli'))\n",
    "tg_halli.aggregate_array('Subcatch').getInfo()"
   ]
  },
  {
   "cell_type": "code",
   "execution_count": 7,
   "metadata": {},
   "outputs": [],
   "source": [
    "\n",
    "tm5 = rs.prep_tm5_ic(ee_geometry).filterDate('2014-06-01','2015-06-01')\n",
    "etm7 = rs.prep_etm7_ic(ee_geometry).filterDate('2014-06-01','2015-06-01')\n",
    "oli8 = rs.prep_oli8_ic(tg_halli).filterDate('2014-06-01','2015-06-01')\n",
    "\n",
    "landsat = tm5.merge(etm7).merge(oli8) \\\n",
    "    .filter(ee.Filter.lt('CLOUD_COVER', 50))\n",
    "\n",
    "landsat_clouds = rs.prep_landsat_clouds(landsat)"
   ]
  },
  {
   "cell_type": "code",
   "execution_count": 8,
   "metadata": {},
   "outputs": [],
   "source": [
    "# landsat = landsat #\\\n",
    "  # .filterDate('2014-11-01','2015-02-01') #\\\n",
    "  # .filter(ee.Filter.inList('DATE_ACQUIRED', ee.List(['2014-11-10','2015-01-13'])))\n",
    "\n",
    "# landsat_clouds.aggregate_array('DATE_ACQUIRED').getInfo()"
   ]
  },
  {
   "cell_type": "code",
   "execution_count": 9,
   "metadata": {},
   "outputs": [],
   "source": [
    "samp_pts_full = gpd.read_file('../../spatial/unmod/training/Landuse_village_datapoints_15_01_2015.shp')\n",
    "samp_pts_full['id'] = np.arange(0, len(samp_pts_full))\n",
    "\n",
    "samp_pts_df = samp_pts_full.drop(columns=['geometry','Longitude','Latitude','GD_COLLECT','Unique_ID'])\n",
    "# samp_pts_ids['id'] = np.arange(0, len(samp_pts_ids))\n",
    "samp_pts_df.to_csv('../../data/format/training_pt_ids.csv', index=False)"
   ]
  },
  {
   "cell_type": "code",
   "execution_count": 17,
   "metadata": {},
   "outputs": [
    {
     "data": {
      "text/html": [
       "<div>\n",
       "<style scoped>\n",
       "    .dataframe tbody tr th:only-of-type {\n",
       "        vertical-align: middle;\n",
       "    }\n",
       "\n",
       "    .dataframe tbody tr th {\n",
       "        vertical-align: top;\n",
       "    }\n",
       "\n",
       "    .dataframe thead th {\n",
       "        text-align: right;\n",
       "    }\n",
       "</style>\n",
       "<table border=\"1\" class=\"dataframe\">\n",
       "  <thead>\n",
       "    <tr style=\"text-align: right;\">\n",
       "      <th></th>\n",
       "      <th>id</th>\n",
       "      <th>geometry</th>\n",
       "    </tr>\n",
       "  </thead>\n",
       "  <tbody>\n",
       "    <tr>\n",
       "      <th>0</th>\n",
       "      <td>0</td>\n",
       "      <td>POINT (77.30060 13.19500)</td>\n",
       "    </tr>\n",
       "    <tr>\n",
       "      <th>1</th>\n",
       "      <td>1</td>\n",
       "      <td>POINT (77.30160 13.19530)</td>\n",
       "    </tr>\n",
       "    <tr>\n",
       "      <th>2</th>\n",
       "      <td>2</td>\n",
       "      <td>POINT (77.30250 13.19580)</td>\n",
       "    </tr>\n",
       "    <tr>\n",
       "      <th>3</th>\n",
       "      <td>3</td>\n",
       "      <td>POINT (77.30320 13.19590)</td>\n",
       "    </tr>\n",
       "    <tr>\n",
       "      <th>4</th>\n",
       "      <td>4</td>\n",
       "      <td>POINT (77.30330 13.19530)</td>\n",
       "    </tr>\n",
       "    <tr>\n",
       "      <th>...</th>\n",
       "      <td>...</td>\n",
       "      <td>...</td>\n",
       "    </tr>\n",
       "    <tr>\n",
       "      <th>614</th>\n",
       "      <td>614</td>\n",
       "      <td>POINT (77.27383 13.27420)</td>\n",
       "    </tr>\n",
       "    <tr>\n",
       "      <th>615</th>\n",
       "      <td>615</td>\n",
       "      <td>POINT (77.27198 13.26347)</td>\n",
       "    </tr>\n",
       "    <tr>\n",
       "      <th>616</th>\n",
       "      <td>616</td>\n",
       "      <td>POINT (77.26981 13.24523)</td>\n",
       "    </tr>\n",
       "    <tr>\n",
       "      <th>617</th>\n",
       "      <td>617</td>\n",
       "      <td>POINT (77.28504 13.22306)</td>\n",
       "    </tr>\n",
       "    <tr>\n",
       "      <th>618</th>\n",
       "      <td>618</td>\n",
       "      <td>POINT (77.32525 13.18233)</td>\n",
       "    </tr>\n",
       "  </tbody>\n",
       "</table>\n",
       "<p>619 rows × 2 columns</p>\n",
       "</div>"
      ],
      "text/plain": [
       "      id                   geometry\n",
       "0      0  POINT (77.30060 13.19500)\n",
       "1      1  POINT (77.30160 13.19530)\n",
       "2      2  POINT (77.30250 13.19580)\n",
       "3      3  POINT (77.30320 13.19590)\n",
       "4      4  POINT (77.30330 13.19530)\n",
       "..   ...                        ...\n",
       "614  614  POINT (77.27383 13.27420)\n",
       "615  615  POINT (77.27198 13.26347)\n",
       "616  616  POINT (77.26981 13.24523)\n",
       "617  617  POINT (77.28504 13.22306)\n",
       "618  618  POINT (77.32525 13.18233)\n",
       "\n",
       "[619 rows x 2 columns]"
      ]
     },
     "execution_count": 17,
     "metadata": {},
     "output_type": "execute_result"
    }
   ],
   "source": [
    "\n",
    "samp_pts = samp_pts_full[['id', 'geometry']]\n",
    "samp_pts\n"
   ]
  },
  {
   "cell_type": "code",
   "execution_count": 18,
   "metadata": {},
   "outputs": [],
   "source": [
    "samp_pts_ee = geemap.geopandas_to_ee(samp_pts)\n",
    "\n",
    "# oli8.select([0]).projection()\n",
    "\n"
   ]
  },
  {
   "cell_type": "code",
   "execution_count": 19,
   "metadata": {},
   "outputs": [],
   "source": [
    "# print(rs.get_pixel_ts_allbands.__doc__)\n",
    "training_ts = rs.get_pixel_ts_allbands(samp_pts_ee, landsat_clouds, 'DATE_ACQUIRED', scale = 30)\n",
    "# import inspect\n",
    "# print(inspect.getsource(rs.get_pixel_ts_allbands))\n",
    "\n",
    "# crops_task = ee.batch.Export.image.toDrive(\n",
    "#     image = crops_bands,\n",
    "#     description = 'crops_bands',\n",
    "#     folder = 'classy_downloads',\n",
    "#     fileNamePrefix = 'karur_crops_2015_2021',\n",
    "#     region = ee_geometry_box,\n",
    "#     scale = 30)\n",
    "\n",
    "# # crops_task.start()\n",
    "export_ts = ee.batch.Export.table.toDrive(\n",
    "    collection = training_ts,\n",
    "    description = 'training_ts',\n",
    "    folder = 'gee_sasia',\n",
    "    fileNamePrefix = 'landsat_for_lulc_2014_2015',\n",
    "    fileFormat = 'CSV')\n",
    "\n",
    "export_ts.start()"
   ]
  },
  {
   "cell_type": "code",
   "execution_count": 20,
   "metadata": {},
   "outputs": [
    {
     "data": {
      "text/plain": [
       "[<Task Z35FMMQUUQUCO7BXPGVQTXCP EXPORT_FEATURES: training_ts (READY)>,\n",
       " <Task 2VX2HDDDGHADYNXN63F2BYSL EXPORT_FEATURES: training_ts (COMPLETED)>,\n",
       " <Task 6JV7R35NSF6CDMQLBBOX6OJW EXPORT_IMAGE: crops_bands (COMPLETED)>]"
      ]
     },
     "execution_count": 20,
     "metadata": {},
     "output_type": "execute_result"
    }
   ],
   "source": [
    "ee.batch.Task.list()"
   ]
  },
  {
   "attachments": {},
   "cell_type": "markdown",
   "metadata": {},
   "source": [
    "## Import the GEE output to repository"
   ]
  },
  {
   "cell_type": "code",
   "execution_count": 24,
   "metadata": {},
   "outputs": [],
   "source": [
    "landsat_data_gee = pd.read_csv(\n",
    "    '../../data/gdrive_gee_sasia/landsat_for_lulc_2014_2015.csv')\n",
    "\n",
    "landsat_data = landsat_data[['id', 'image_id', 'blue', 'green', 'red',\n",
    "                             'nir', 'swir1', 'swir2', 'clouds', 'shadows', 'clouds_shadows']]\n",
    "landsat_data.to_csv('../../data/format/training_landsat_2014_2015.csv', index=False)\n"
   ]
  },
  {
   "cell_type": "code",
   "execution_count": 14,
   "metadata": {},
   "outputs": [
    {
     "data": {
      "application/vnd.jupyter.widget-view+json": {
       "model_id": "20eab08ab1a44292bee5d719935db310",
       "version_major": 2,
       "version_minor": 0
      },
      "text/plain": [
       "Map(center=[12.84852761341192, 77.44092789490166], controls=(WidgetControl(options=['position', 'transparent_b…"
      ]
     },
     "metadata": {},
     "output_type": "display_data"
    }
   ],
   "source": [
    "m = geemap.Map()\n",
    "m.addLayer(oli8.filterDate('2014-11-01','2014-12-01').first(),{'bands':['nir','red','green'], 'max': 30000},'oli8 2014')\n",
    "m.addLayer(oli8.filterDate('2015-01-01','2015-12-01').first(),{'bands':['nir','red','green'], 'max': 30000},'oli8 2015')\n",
    "m.addLayer(ee.Image().paint(ee_geometry,1,1),{'palette':'white'},'ark')\n",
    "m.addLayerControl()\n",
    "m.centerObject(ee_geometry, 10)\n",
    "m"
   ]
  },
  {
   "attachments": {},
   "cell_type": "markdown",
   "metadata": {},
   "source": []
  }
 ],
 "metadata": {
  "kernelspec": {
   "display_name": "dsgeom",
   "language": "python",
   "name": "python3"
  },
  "language_info": {
   "codemirror_mode": {
    "name": "ipython",
    "version": 3
   },
   "file_extension": ".py",
   "mimetype": "text/x-python",
   "name": "python",
   "nbconvert_exporter": "python",
   "pygments_lexer": "ipython3",
   "version": "3.9.16"
  },
  "orig_nbformat": 4
 },
 "nbformat": 4,
 "nbformat_minor": 2
}
